{
  "nbformat": 4,
  "nbformat_minor": 0,
  "metadata": {
    "colab": {
      "provenance": [],
      "authorship_tag": "ABX9TyO0Sfy+hCidwanS/9inkdt1",
      "include_colab_link": true
    },
    "kernelspec": {
      "name": "python3",
      "display_name": "Python 3"
    },
    "language_info": {
      "name": "python"
    }
  },
  "cells": [
    {
      "cell_type": "markdown",
      "metadata": {
        "id": "view-in-github",
        "colab_type": "text"
      },
      "source": [
        "<a href=\"https://colab.research.google.com/github/Huong1703/Homework/blob/main/Week2_For%2C_White.ipynb\" target=\"_parent\"><img src=\"https://colab.research.google.com/assets/colab-badge.svg\" alt=\"Open In Colab\"/></a>"
      ]
    },
    {
      "cell_type": "markdown",
      "source": [
        "1. Viết hàm is_prime kiểm tra xem N có phải số nguyên tố hay không?"
      ],
      "metadata": {
        "id": "bE5PjEVIUq-k"
      }
    },
    {
      "cell_type": "code",
      "source": [
        "def is_prime():\n",
        "  n = int(input(\"n: \"))\n",
        "  x=2\n",
        "  while x<n:\n",
        "    if(n%x)==0:\n",
        "      print(\"n không là số nguyên tố\")\n",
        "      break;\n",
        "    x=x+1\n",
        "  else:\n",
        "    print(\"n là số nguyên tố\")\n",
        "is_prime()"
      ],
      "metadata": {
        "colab": {
          "base_uri": "https://localhost:8080/"
        },
        "id": "hmc3qXxAWPqt",
        "outputId": "fe9f29ca-120b-41d1-a561-63352e8ca6c1"
      },
      "execution_count": null,
      "outputs": [
        {
          "output_type": "stream",
          "name": "stdout",
          "text": [
            "n: 5\n",
            "n là số nguyên tố\n"
          ]
        }
      ]
    },
    {
      "cell_type": "markdown",
      "source": [
        "2. Viết chương trình nhập hai số A và B, in ra tất cả các số nguyên tố nằm trong khoảng [A, B]"
      ],
      "metadata": {
        "id": "0iDLPJU2VAi7"
      }
    },
    {
      "cell_type": "code",
      "source": [
        "A = int(input(\"A = \"))\n",
        "B = int(input(\"B = \"))\n",
        "\n",
        "def is_prime(num):\n",
        "    if num < 2:\n",
        "        return False\n",
        "    for i in range(2, int(num**0.5) + 1):\n",
        "        if num % i == 0:\n",
        "            return False\n",
        "    return True\n",
        "\n",
        "print(f\"Các số nguyên tố trong khoảng [{A}, {B}]:\")\n",
        "for num in range(A, B + 1):\n",
        "    if is_prime(num):\n",
        "        print(num)\n"
      ],
      "metadata": {
        "colab": {
          "base_uri": "https://localhost:8080/"
        },
        "id": "EexGLfoDXu5_",
        "outputId": "5df0bddc-29ff-4321-8189-575441b63294"
      },
      "execution_count": null,
      "outputs": [
        {
          "output_type": "stream",
          "name": "stdout",
          "text": [
            "A = 1\n",
            "B = 9\n",
            "Các số nguyên tố trong khoảng [1, 9]:\n",
            "2\n",
            "3\n",
            "5\n",
            "7\n"
          ]
        }
      ]
    },
    {
      "cell_type": "markdown",
      "source": [
        "3. Nhập 2 số nguyên dương A và B, tính và in ra màn hình ước số chung lớn nhất và bội số chung nhỏ nhất của 2 số đó"
      ],
      "metadata": {
        "id": "gNx2Kd17VLRh"
      }
    },
    {
      "cell_type": "code",
      "source": [
        "def gcd(x, y):\n",
        "    while y != 0:\n",
        "        x, y = y, x % y\n",
        "    return x\n",
        "\n",
        "def lcm(x, y):\n",
        "    return x * y // gcd(x, y)\n",
        "\n",
        "def kiemtra():\n",
        "    a = int(input(\"Nhập số nguyên dương A: \"))\n",
        "    b = int(input(\"Nhập số nguyên dương B: \"))\n",
        "    ketqua_gcd = gcd(a, b)\n",
        "    ketqua_lcm = lcm(a, b)\n",
        "    print(\"UCLN:\", ketqua_gcd)\n",
        "    print(\"BCNN\", ketqua_lcm)\n",
        "\n",
        "kiemtra()\n"
      ],
      "metadata": {
        "colab": {
          "base_uri": "https://localhost:8080/"
        },
        "id": "8XlxAVL5XufQ",
        "outputId": "d11abeb4-0301-4bb0-f43b-ce4a471e6ea8"
      },
      "execution_count": null,
      "outputs": [
        {
          "output_type": "stream",
          "name": "stdout",
          "text": [
            "Nhập số nguyên dương A: 2\n",
            "Nhập số nguyên dương B: 7\n",
            "UCLN: 1\n",
            "BCNN 14\n"
          ]
        }
      ]
    },
    {
      "cell_type": "markdown",
      "source": [
        "4. Viết chương trình cho phép người dùng nhập vào liên tiếp một dãy số tự nhiên (không biết trước độ dài). Việc nhập dãy sẽ kết thúc khi người dùng nhập một số âm hoặc 0.\n",
        "Sau khi kết thúc, in ra màn hình ước số chung lớn nhất và bội chung nhỏ nhất của tất cả các số vừa nhập vào"
      ],
      "metadata": {
        "id": "-EksUC4_VWiQ"
      }
    },
    {
      "cell_type": "code",
      "source": [
        "numbers = []\n",
        "\n",
        "def find_gcd(x, y):\n",
        "    while y:\n",
        "        x, y = y, x % y\n",
        "    return x\n",
        "\n",
        "def find_lcm(x, y):\n",
        "    return (x * y) // find_gcd(x, y)\n",
        "\n",
        "while True:\n",
        "    num = int(input(\"Nhập một số tự nhiên (nhập số âm hoặc 0 để kết thúc): \"))\n",
        "    if num <= 0:\n",
        "        break\n",
        "    numbers.append(num)\n",
        "\n",
        "if len(numbers) >= 2:\n",
        "    gcd_result = find_gcd(numbers[0], numbers[1])\n",
        "    lcm_result = find_lcm(numbers[0], numbers[1])\n",
        "\n",
        "    for num in numbers[2:]:\n",
        "        gcd_result = find_gcd(gcd_result, num)\n",
        "        lcm_result = find_lcm(lcm_result, num)\n",
        "\n",
        "    print(\"UCLN\", gcd_result)\n",
        "    print(\"BCNN\", lcm_result)\n",
        "else:\n",
        "    print(\"không tính được\")\n",
        "\n"
      ],
      "metadata": {
        "colab": {
          "base_uri": "https://localhost:8080/"
        },
        "id": "09XNzaWUYdRi",
        "outputId": "1768c7ed-aec0-476d-87bf-5f826b9e580c"
      },
      "execution_count": null,
      "outputs": [
        {
          "output_type": "stream",
          "name": "stdout",
          "text": [
            "Nhập một số tự nhiên (nhập số âm hoặc 0 để kết thúc): 7\n",
            "Nhập một số tự nhiên (nhập số âm hoặc 0 để kết thúc): 9\n",
            "Nhập một số tự nhiên (nhập số âm hoặc 0 để kết thúc): 25\n",
            "Nhập một số tự nhiên (nhập số âm hoặc 0 để kết thúc): 14\n",
            "Nhập một số tự nhiên (nhập số âm hoặc 0 để kết thúc): 11\n",
            "Nhập một số tự nhiên (nhập số âm hoặc 0 để kết thúc): 0\n",
            "UCLN 1\n",
            "BCNN 34650\n"
          ]
        }
      ]
    },
    {
      "cell_type": "markdown",
      "source": [
        "5. Viết chương trình cho phép người dùng nhập vào liên tiếp một dãy số tự nhiên (không biết trước độ dài). Việc nhập dãy sẽ kết thúc khi người dùng nhập một số âm hoặc 0. Sau khi kết thúc, in ra màn hình số lượng số đã nhập , GTNN và GTLN"
      ],
      "metadata": {
        "id": "2fODGZVxVv5e"
      }
    },
    {
      "cell_type": "code",
      "source": [
        "numbers = []\n",
        "\n",
        "while True:\n",
        "    num = int(input(\"Nhập một số tự nhiên (nhập số âm hoặc 0 để kết thúc): \"))\n",
        "    if num <= 0:\n",
        "        break\n",
        "    numbers.append(num)\n",
        "\n",
        "if numbers:\n",
        "    count = len(numbers)\n",
        "    min_value = min(numbers)\n",
        "    max_value = max(numbers)\n",
        "\n",
        "    print(\"Số lượng số đã nhập:\", count)\n",
        "    print(\"GTNN:\", min_value)\n",
        "    print(\"GTLN:\", max_value)\n",
        "else:\n",
        "    print(\"Không có số nào được nhập.\")\n"
      ],
      "metadata": {
        "colab": {
          "base_uri": "https://localhost:8080/"
        },
        "id": "ANtAiHx2bVnV",
        "outputId": "dddc8adf-e5b1-4fcb-a125-858e7f44e7ac"
      },
      "execution_count": null,
      "outputs": [
        {
          "output_type": "stream",
          "name": "stdout",
          "text": [
            "Nhập một số tự nhiên (nhập số âm hoặc 0 để kết thúc): 4\n",
            "Nhập một số tự nhiên (nhập số âm hoặc 0 để kết thúc): 7\n",
            "Nhập một số tự nhiên (nhập số âm hoặc 0 để kết thúc): 9\n",
            "Nhập một số tự nhiên (nhập số âm hoặc 0 để kết thúc): 5\n",
            "Nhập một số tự nhiên (nhập số âm hoặc 0 để kết thúc): 0\n",
            "Số lượng số đã nhập: 4\n",
            "GTNN: 4\n",
            "GTLN: 9\n"
          ]
        }
      ]
    }
  ]
}