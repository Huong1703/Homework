{
  "nbformat": 4,
  "nbformat_minor": 0,
  "metadata": {
    "colab": {
      "provenance": [],
      "authorship_tag": "ABX9TyO25X0Uu38k8gfQb0tcBlnA",
      "include_colab_link": true
    },
    "kernelspec": {
      "name": "python3",
      "display_name": "Python 3"
    },
    "language_info": {
      "name": "python"
    }
  },
  "cells": [
    {
      "cell_type": "markdown",
      "metadata": {
        "id": "view-in-github",
        "colab_type": "text"
      },
      "source": [
        "<a href=\"https://colab.research.google.com/github/Huong1703/Homework/blob/main/Week3_List%2C_Tuple%2C_Range.ipynb\" target=\"_parent\"><img src=\"https://colab.research.google.com/assets/colab-badge.svg\" alt=\"Open In Colab\"/></a>"
      ]
    },
    {
      "cell_type": "markdown",
      "source": [
        "1. Người dùng nhập từ bàn phím liên tiếp các từ tiếng Anh viết tách nhau bởi dấu cách. Hãy nhập chuỗi đầu vào và tách thành các từ sau đó in ra màn hình các từ đó theo thứ tự từ điển"
      ],
      "metadata": {
        "id": "RLpVkFzSBQqi"
      }
    },
    {
      "cell_type": "code",
      "source": [
        "input_string = input(\"Nhập chuỗi: \")\n",
        "word_list = input_string.split()\n",
        "\n",
        "sorted_word_list = sorted(word_list)\n",
        "\n",
        "print(\"Các từ sau khi sắp xếp theo thứ tự từ điển:\")\n",
        "for word in sorted_word_list:\n",
        "    print(word)\n"
      ],
      "metadata": {
        "colab": {
          "base_uri": "https://localhost:8080/"
        },
        "id": "kbf2SznKCbKj",
        "outputId": "5cf6034c-e3ac-4d58-e322-c2c9d65c9fd8"
      },
      "execution_count": null,
      "outputs": [
        {
          "output_type": "stream",
          "name": "stdout",
          "text": [
            "Nhập chuỗi: My first visit to Nha Trang, the coastal city, was three years ago. It was a pleasant and memorable trip. Nha Trang, the capital of Khanhs Hoaf province, has one of the most popular municipal beaches in all of Vietnam. In Nha Trang, nature beauties are so tempting. Waves crashing onto the cliffs; the soft sigh of the sea breeze; clean white sands and turquoise waters; it all makes for a stunning landscapes.\n",
            "Các từ sau khi sắp xếp theo thứ tự từ điển:\n",
            "Hoaf\n",
            "In\n",
            "It\n",
            "Khanhs\n",
            "My\n",
            "Nha\n",
            "Nha\n",
            "Nha\n",
            "Trang,\n",
            "Trang,\n",
            "Trang,\n",
            "Vietnam.\n",
            "Waves\n",
            "a\n",
            "a\n",
            "ago.\n",
            "all\n",
            "all\n",
            "and\n",
            "and\n",
            "are\n",
            "beaches\n",
            "beauties\n",
            "breeze;\n",
            "capital\n",
            "city,\n",
            "clean\n",
            "cliffs;\n",
            "coastal\n",
            "crashing\n",
            "first\n",
            "for\n",
            "has\n",
            "in\n",
            "it\n",
            "landscapes.\n",
            "makes\n",
            "memorable\n",
            "most\n",
            "municipal\n",
            "nature\n",
            "of\n",
            "of\n",
            "of\n",
            "of\n",
            "one\n",
            "onto\n",
            "pleasant\n",
            "popular\n",
            "province,\n",
            "sands\n",
            "sea\n",
            "sigh\n",
            "so\n",
            "soft\n",
            "stunning\n",
            "tempting.\n",
            "the\n",
            "the\n",
            "the\n",
            "the\n",
            "the\n",
            "the\n",
            "three\n",
            "to\n",
            "trip.\n",
            "turquoise\n",
            "visit\n",
            "was\n",
            "was\n",
            "waters;\n",
            "white\n",
            "years\n"
          ]
        }
      ]
    },
    {
      "cell_type": "markdown",
      "source": [
        "2. Người dùng nhập từ bàn phím chuỗi các số nhị phân viết liên tiếp được nối nhau bởi dấu phẩy. Hãy nhập chuỗi đầu vào sau đó in ra những giá trị được nhập"
      ],
      "metadata": {
        "id": "p5SCKrlFBopA"
      }
    },
    {
      "cell_type": "code",
      "source": [
        "binary_string = input(\"Nhập chuỗi: \")\n",
        "binary_values = binary_string.split(',')\n",
        "\n",
        "decimal_values = [int(value, 2) for value in binary_values]\n",
        "\n",
        "decimal_tuple = tuple(decimal_values)\n",
        "indices = range(len(decimal_values))\n",
        "\n",
        "print(\"Các giá trị đã nhập:\")\n",
        "for index, value in zip(indices, decimal_values):\n",
        "    print(f\"Giá trị {index + 1}: {value}\")\n",
        "\n",
        "print(\"Tuple giá trị:\")\n",
        "print(decimal_tuple)\n"
      ],
      "metadata": {
        "colab": {
          "base_uri": "https://localhost:8080/"
        },
        "id": "PIGct9meC89I",
        "outputId": "cf9ce50c-5974-49c9-bb9a-f4a93ad6acdd"
      },
      "execution_count": null,
      "outputs": [
        {
          "output_type": "stream",
          "name": "stdout",
          "text": [
            "Nhập chuỗi: 11, 10, 001, 100, 1000\n",
            "Các giá trị đã nhập:\n",
            "Giá trị 1: 3\n",
            "Giá trị 2: 2\n",
            "Giá trị 3: 1\n",
            "Giá trị 4: 4\n",
            "Giá trị 5: 8\n",
            "Tuple giá trị:\n",
            "(3, 2, 1, 4, 8)\n"
          ]
        }
      ]
    },
    {
      "cell_type": "markdown",
      "source": [
        "3. Nhập số n, in ra màn hình các số nguyên dương nhỏ hơn n có tổng các ước số lớn hơn chính nó"
      ],
      "metadata": {
        "id": "Dc6djhzUB5B-"
      }
    },
    {
      "cell_type": "code",
      "source": [
        "n = int(input(\"n: \"))\n",
        "\n",
        "result_list = [i for i in range(1, n) if sum([j for j in range(1, i) if i % j == 0]) > i]\n",
        "result_tuple = tuple(result_list)\n",
        "\n",
        "print(\"Các số nguyên dương nhỏ hơn n có tổng ước số lớn hơn chính nó:\")\n",
        "for number in result_list:\n",
        "    print(number)\n",
        "\n",
        "print(\"Tuple các số nguyên:\")\n",
        "print(result_tuple)\n"
      ],
      "metadata": {
        "colab": {
          "base_uri": "https://localhost:8080/"
        },
        "id": "NsVFK7V4Eg47",
        "outputId": "b4997b06-9367-42e4-e9a3-7b9b2c4a60c9"
      },
      "execution_count": null,
      "outputs": [
        {
          "output_type": "stream",
          "name": "stdout",
          "text": [
            "n: 25\n",
            "Các số nguyên dương nhỏ hơn n có tổng ước số lớn hơn chính nó:\n",
            "12\n",
            "18\n",
            "20\n",
            "24\n",
            "Tuple các số nguyên:\n",
            "(12, 18, 20, 24)\n"
          ]
        }
      ]
    },
    {
      "cell_type": "markdown",
      "source": [
        "4. Nhập vào một chuỗi từ người dùng, kiểm tra xem đó có phải địa chỉ email hợp lệ hay không"
      ],
      "metadata": {
        "id": "modayybSCAZV"
      }
    },
    {
      "cell_type": "code",
      "source": [
        "def kiem_tra_email(chuoi):\n",
        "    if \"@\" in chuoi and \".\" in chuoi:\n",
        "        return True\n",
        "    else:\n",
        "        return False\n",
        "\n",
        "email = input(\"Nhập địa chỉ email: \")\n",
        "if kiem_tra_email(email):\n",
        "    print(\"Đây là địa chỉ email hợp lệ.\")\n",
        "else:\n",
        "    print(\"Đây không phải là địa chỉ email hợp lệ.\")"
      ],
      "metadata": {
        "colab": {
          "base_uri": "https://localhost:8080/"
        },
        "id": "6LiCyFgJE9ge",
        "outputId": "507de0dd-bc9a-4c63-bfe4-9deebe5d1e80"
      },
      "execution_count": null,
      "outputs": [
        {
          "output_type": "stream",
          "name": "stdout",
          "text": [
            "Nhập địa chỉ email: 21012065@st.phenikaa-uni.edu.vn\n",
            "Đây là địa chỉ email hợp lệ.\n"
          ]
        }
      ]
    }
  ]
}