{
  "cells": [
    {
      "cell_type": "markdown",
      "metadata": {
        "id": "view-in-github",
        "colab_type": "text"
      },
      "source": [
        "<a href=\"https://colab.research.google.com/github/Huong1703/Homework/blob/main/Week10.ipynb\" target=\"_parent\"><img src=\"https://colab.research.google.com/assets/colab-badge.svg\" alt=\"Open In Colab\"/></a>"
      ]
    },
    {
      "cell_type": "markdown",
      "metadata": {
        "pycharm": {
          "name": "#%% md\n"
        },
        "id": "Q75ji2_zMq-a"
      },
      "source": [
        "# Visualizing Company Sale data"
      ]
    },
    {
      "cell_type": "markdown",
      "metadata": {
        "pycharm": {
          "name": "#%% md\n"
        },
        "id": "u8Axtc7IMq-c"
      },
      "source": [
        "### Step 1. Import the necessary libraries"
      ]
    },
    {
      "cell_type": "code",
      "execution_count": null,
      "metadata": {
        "pycharm": {
          "name": "#%%\n"
        },
        "id": "_EveFLrKMq-c"
      },
      "outputs": [],
      "source": [
        "import pandas as pd\n",
        "import matplotlib.pyplot as plt\n",
        "from collections import Counter\n",
        "\n",
        "# set this so the graphs open internally\n",
        "%matplotlib inline"
      ]
    },
    {
      "cell_type": "markdown",
      "metadata": {
        "pycharm": {
          "name": "#%% md\n"
        },
        "id": "HuUT6YgBMq-d"
      },
      "source": [
        "### Step 2. Import the dataset from this [address](https://github.com/thieu1995/csv-files/blob/main/data/matplotlib/company_sales_data.csv)."
      ]
    },
    {
      "cell_type": "code",
      "execution_count": null,
      "metadata": {
        "pycharm": {
          "name": "#%%\n"
        },
        "id": "G_GqgaxFMq-d",
        "colab": {
          "base_uri": "https://localhost:8080/"
        },
        "outputId": "69ed1888-afdc-4e26-d646-2e6191beeaea"
      },
      "outputs": [
        {
          "output_type": "stream",
          "name": "stdout",
          "text": [
            "    month_number  facecream  facewash  toothpaste  bathingsoap  shampoo  \\\n",
            "0              1       2500      1500        5200         9200     1200   \n",
            "1              2       2630      1200        5100         6100     2100   \n",
            "2              3       2140      1340        4550         9550     3550   \n",
            "3              4       3400      1130        5870         8870     1870   \n",
            "4              5       3600      1740        4560         7760     1560   \n",
            "5              6       2760      1555        4890         7490     1890   \n",
            "6              7       2980      1120        4780         8980     1780   \n",
            "7              8       3700      1400        5860         9960     2860   \n",
            "8              9       3540      1780        6100         8100     2100   \n",
            "9             10       1990      1890        8300        10300     2300   \n",
            "10            11       2340      2100        7300        13300     2400   \n",
            "11            12       2900      1760        7400        14400     1800   \n",
            "\n",
            "    moisturizer  total_units  total_profit  \n",
            "0          1500        21100        211000  \n",
            "1          1200        18330        183300  \n",
            "2          1340        22470        224700  \n",
            "3          1130        22270        222700  \n",
            "4          1740        20960        209600  \n",
            "5          1555        20140        201400  \n",
            "6          1120        29550        295500  \n",
            "7          1400        36140        361400  \n",
            "8          1780        23400        234000  \n",
            "9          1890        26670        266700  \n",
            "10         2100        41280        412800  \n",
            "11         1760        30020        300200  \n"
          ]
        }
      ],
      "source": [
        "users = pd.read_csv('https://raw.githubusercontent.com/thieu1995/csv-files/main/data/matplotlib/company_sales_data.csv', sep=',')\n",
        "print(users)"
      ]
    },
    {
      "cell_type": "markdown",
      "metadata": {
        "pycharm": {
          "name": "#%% md\n"
        },
        "id": "2Dlj2K2lMq-d"
      },
      "source": [
        "### Exercise 1: Read Total profit of all months and show it using a line plot\n",
        "\n",
        "![img](https://github.com/thieu1995/pandas/blob/main/11_matplotlib/company-sale/img/01.png?raw=1)"
      ]
    },
    {
      "cell_type": "code",
      "execution_count": null,
      "metadata": {
        "pycharm": {
          "name": "#%%\n"
        },
        "id": "dm0MgBF8Mq-e"
      },
      "outputs": [],
      "source": []
    },
    {
      "cell_type": "markdown",
      "metadata": {
        "pycharm": {
          "name": "#%% md\n"
        },
        "id": "lfVCi_00Mq-e"
      },
      "source": [
        "### Exercise 2: Get total profit of all months and show line plot with the following Style properties\n",
        "\n",
        "![img](https://github.com/thieu1995/pandas/blob/main/11_matplotlib/company-sale/img/02.png?raw=1)"
      ]
    },
    {
      "cell_type": "code",
      "execution_count": null,
      "metadata": {
        "pycharm": {
          "name": "#%%\n"
        },
        "id": "r2WA-K_PMq-e"
      },
      "outputs": [],
      "source": []
    },
    {
      "cell_type": "markdown",
      "metadata": {
        "pycharm": {
          "name": "#%% md\n"
        },
        "id": "SEM51dmgMq-e"
      },
      "source": [
        "### Exercise 3: Read all product sales data and show it  using a multiline plot\n",
        "\n",
        "![img](https://github.com/thieu1995/pandas/blob/main/11_matplotlib/company-sale/img/03.png?raw=1)"
      ]
    },
    {
      "cell_type": "code",
      "execution_count": null,
      "metadata": {
        "pycharm": {
          "name": "#%%\n"
        },
        "id": "3H95UdrfMq-e"
      },
      "outputs": [],
      "source": []
    },
    {
      "cell_type": "markdown",
      "metadata": {
        "pycharm": {
          "name": "#%% md\n"
        },
        "id": "bmJbE5D-Mq-e"
      },
      "source": [
        "### Exercise 4: Read toothpaste sales data of each month and show it using a scatter plot\n",
        "![img](https://github.com/thieu1995/pandas/blob/main/11_matplotlib/company-sale/img/04.png?raw=1)"
      ]
    },
    {
      "cell_type": "code",
      "execution_count": null,
      "metadata": {
        "pycharm": {
          "name": "#%%\n"
        },
        "id": "kwZexd9rMq-e"
      },
      "outputs": [],
      "source": []
    },
    {
      "cell_type": "markdown",
      "metadata": {
        "pycharm": {
          "name": "#%% md\n"
        },
        "id": "vpe6GOH6Mq-f"
      },
      "source": [
        "### Exercise 5: Read face cream and facewash product sales data and show it using the bar chart\n",
        "\n",
        "![img](https://github.com/thieu1995/pandas/blob/main/11_matplotlib/company-sale/img/05.png?raw=1)"
      ]
    },
    {
      "cell_type": "code",
      "execution_count": null,
      "metadata": {
        "pycharm": {
          "name": "#%%\n"
        },
        "id": "ggztznAjMq-f"
      },
      "outputs": [],
      "source": []
    },
    {
      "cell_type": "markdown",
      "metadata": {
        "pycharm": {
          "name": "#%% md\n"
        },
        "id": "Ut6yn8yiMq-f"
      },
      "source": [
        "### Exercise 6: Read sales data of bathing soap of all months and show it using a bar chart. Save this plot to your hard disk\n",
        "\n",
        "![img](https://github.com/thieu1995/pandas/blob/main/11_matplotlib/company-sale/img/06.png?raw=1)"
      ]
    },
    {
      "cell_type": "code",
      "execution_count": null,
      "metadata": {
        "pycharm": {
          "name": "#%%\n"
        },
        "id": "0PiQtLz7Mq-f"
      },
      "outputs": [],
      "source": []
    },
    {
      "cell_type": "markdown",
      "metadata": {
        "pycharm": {
          "name": "#%% md\n"
        },
        "id": "vdmkC7qqMq-f"
      },
      "source": [
        "### Exercise 7: Read the total profit of each month and show it using the histogram to see the most common profit ranges\n",
        "\n",
        "![img](https://github.com/thieu1995/pandas/blob/main/11_matplotlib/company-sale/img/07.png?raw=1)"
      ]
    },
    {
      "cell_type": "code",
      "execution_count": null,
      "metadata": {
        "pycharm": {
          "name": "#%%\n"
        },
        "id": "9x7Cg00fMq-f"
      },
      "outputs": [],
      "source": []
    },
    {
      "cell_type": "markdown",
      "metadata": {
        "pycharm": {
          "name": "#%% md\n"
        },
        "id": "guS4KWfUMq-f"
      },
      "source": [
        "### Exercise 8: Calculate total sale data for last year for each product and show it using a Pie chart\n",
        "\n",
        "![img](https://github.com/thieu1995/pandas/blob/main/11_matplotlib/company-sale/img/08.png?raw=1)"
      ]
    },
    {
      "cell_type": "code",
      "execution_count": null,
      "metadata": {
        "pycharm": {
          "name": "#%%\n"
        },
        "id": "e2gO1-J4Mq-g"
      },
      "outputs": [],
      "source": []
    },
    {
      "cell_type": "markdown",
      "metadata": {
        "pycharm": {
          "name": "#%% md\n"
        },
        "id": "joxQAEq5Mq-g"
      },
      "source": [
        "### Exercise 9: Read Bathing soap facewash of all months and display it using the Subplot\n",
        "\n",
        "![img](https://github.com/thieu1995/pandas/blob/main/11_matplotlib/company-sale/img/09.png?raw=1)"
      ]
    },
    {
      "cell_type": "code",
      "execution_count": null,
      "metadata": {
        "pycharm": {
          "name": "#%%\n"
        },
        "id": "JxqKfieVMq-g"
      },
      "outputs": [],
      "source": []
    },
    {
      "cell_type": "markdown",
      "metadata": {
        "pycharm": {
          "name": "#%% md\n"
        },
        "id": "cC0Bi20KMq-g"
      },
      "source": [
        "### Exercise 10: Read all product sales data and show it using the stack plot\n",
        "\n",
        "![img](https://github.com/thieu1995/pandas/blob/main/11_matplotlib/company-sale/img/10.png?raw=1)"
      ]
    },
    {
      "cell_type": "code",
      "execution_count": null,
      "metadata": {
        "pycharm": {
          "name": "#%%\n"
        },
        "id": "TJk14JwPMq-g"
      },
      "outputs": [],
      "source": []
    },
    {
      "cell_type": "code",
      "execution_count": null,
      "metadata": {
        "pycharm": {
          "name": "#%%\n"
        },
        "id": "6l5C32MZMq-g"
      },
      "outputs": [],
      "source": []
    },
    {
      "cell_type": "markdown",
      "source": [
        "### Exercise 6: Read sales data of bathing soap of all months and show it using a bar chart. Save this plot to your hard disk\n",
        "\n",
        "![img](https://github.com/thieu1995/pandas/blob/main/11_matplotlib/company-sale/img/06.png?raw=1)"
      ],
      "metadata": {
        "collapsed": false,
        "pycharm": {
          "name": "#%% md\n"
        },
        "id": "2AHcKvF7Mq-g"
      }
    },
    {
      "cell_type": "code",
      "execution_count": null,
      "outputs": [],
      "source": [],
      "metadata": {
        "pycharm": {
          "name": "#%%\n"
        },
        "id": "0G_Gk4U2Mq-h"
      }
    },
    {
      "cell_type": "markdown",
      "source": [
        "### Exercise 7: Read the total profit of each month and show it using the histogram to see the most common profit ranges\n",
        "\n",
        "![img](https://github.com/thieu1995/pandas/blob/main/11_matplotlib/company-sale/img/07.png?raw=1)"
      ],
      "metadata": {
        "collapsed": false,
        "pycharm": {
          "name": "#%% md\n"
        },
        "id": "wPpI9sXVMq-h"
      }
    },
    {
      "cell_type": "code",
      "execution_count": null,
      "outputs": [],
      "source": [],
      "metadata": {
        "pycharm": {
          "name": "#%%\n"
        },
        "id": "la8cfJlxMq-h"
      }
    },
    {
      "cell_type": "markdown",
      "source": [
        "### Exercise 8: Calculate total sale data for last year for each product and show it using a Pie chart\n",
        "\n",
        "![img](https://github.com/thieu1995/pandas/blob/main/11_matplotlib/company-sale/img/08.png?raw=1)"
      ],
      "metadata": {
        "collapsed": false,
        "pycharm": {
          "name": "#%% md\n"
        },
        "id": "4VDsJ5DPMq-h"
      }
    },
    {
      "cell_type": "code",
      "execution_count": null,
      "outputs": [],
      "source": [],
      "metadata": {
        "pycharm": {
          "name": "#%%\n"
        },
        "id": "EhsP0hYqMq-h"
      }
    },
    {
      "cell_type": "markdown",
      "source": [
        "### Exercise 9: Read Bathing soap facewash of all months and display it using the Subplot\n",
        "\n",
        "![img](https://github.com/thieu1995/pandas/blob/main/11_matplotlib/company-sale/img/09.png?raw=1)"
      ],
      "metadata": {
        "collapsed": false,
        "pycharm": {
          "name": "#%% md\n"
        },
        "id": "HsnGrXeLMq-h"
      }
    },
    {
      "cell_type": "code",
      "execution_count": null,
      "outputs": [],
      "source": [],
      "metadata": {
        "pycharm": {
          "name": "#%%\n"
        },
        "id": "YG870caBMq-h"
      }
    },
    {
      "cell_type": "markdown",
      "source": [
        "### Exercise 10: Read all product sales data and show it using the stack plot\n",
        "\n",
        "![img](https://github.com/thieu1995/pandas/blob/main/11_matplotlib/company-sale/img/10.png?raw=1)"
      ],
      "metadata": {
        "collapsed": false,
        "pycharm": {
          "name": "#%% md\n"
        },
        "id": "i5hSeSq5Mq-i"
      }
    },
    {
      "cell_type": "code",
      "execution_count": null,
      "outputs": [],
      "source": [],
      "metadata": {
        "pycharm": {
          "name": "#%%\n"
        },
        "id": "tMdcnENRMq-i"
      }
    },
    {
      "cell_type": "code",
      "execution_count": null,
      "outputs": [],
      "source": [],
      "metadata": {
        "pycharm": {
          "name": "#%%\n"
        },
        "id": "tWF5ROiWMq-i"
      }
    },
    {
      "cell_type": "markdown",
      "metadata": {
        "pycharm": {
          "name": "#%% md\n"
        },
        "id": "o--IUl0tMq-i"
      },
      "source": [
        "### Exercise 6: Read sales data of bathing soap of all months and show it using a bar chart. Save this plot to your hard disk\n",
        "\n",
        "![img](https://github.com/thieu1995/pandas/blob/main/11_matplotlib/company-sale/img/06.png?raw=1)"
      ]
    },
    {
      "cell_type": "code",
      "execution_count": null,
      "metadata": {
        "pycharm": {
          "name": "#%%\n"
        },
        "id": "pjsPTOShMq-i"
      },
      "outputs": [],
      "source": []
    },
    {
      "cell_type": "markdown",
      "metadata": {
        "pycharm": {
          "name": "#%% md\n"
        },
        "id": "FQf88hqKMq-p"
      },
      "source": [
        "### Exercise 7: Read the total profit of each month and show it using the histogram to see the most common profit ranges\n",
        "\n",
        "![img](https://github.com/thieu1995/pandas/blob/main/11_matplotlib/company-sale/img/07.png?raw=1)"
      ]
    },
    {
      "cell_type": "code",
      "execution_count": null,
      "metadata": {
        "pycharm": {
          "name": "#%%\n"
        },
        "id": "tD7Oe1cMMq-q"
      },
      "outputs": [],
      "source": []
    },
    {
      "cell_type": "markdown",
      "metadata": {
        "pycharm": {
          "name": "#%% md\n"
        },
        "id": "J4xBDvEWMq-q"
      },
      "source": [
        "### Exercise 8: Calculate total sale data for last year for each product and show it using a Pie chart\n",
        "\n",
        "![img](https://github.com/thieu1995/pandas/blob/main/11_matplotlib/company-sale/img/08.png?raw=1)"
      ]
    },
    {
      "cell_type": "code",
      "execution_count": null,
      "metadata": {
        "pycharm": {
          "name": "#%%\n"
        },
        "id": "dko-talVMq-q"
      },
      "outputs": [],
      "source": []
    },
    {
      "cell_type": "markdown",
      "metadata": {
        "pycharm": {
          "name": "#%% md\n"
        },
        "id": "zmet85eiMq-q"
      },
      "source": [
        "### Exercise 9: Read Bathing soap facewash of all months and display it using the Subplot\n",
        "\n",
        "![img](https://github.com/thieu1995/pandas/blob/main/11_matplotlib/company-sale/img/09.png?raw=1)"
      ]
    },
    {
      "cell_type": "code",
      "execution_count": null,
      "metadata": {
        "pycharm": {
          "name": "#%%\n"
        },
        "id": "CYXCmF8VMq-q"
      },
      "outputs": [],
      "source": []
    },
    {
      "cell_type": "markdown",
      "metadata": {
        "pycharm": {
          "name": "#%% md\n"
        },
        "id": "S4SNddilMq-q"
      },
      "source": [
        "### Exercise 10: Read all product sales data and show it using the stack plot\n",
        "\n",
        "![img](https://github.com/thieu1995/pandas/blob/main/11_matplotlib/company-sale/img/10.png?raw=1)"
      ]
    },
    {
      "cell_type": "code",
      "execution_count": null,
      "metadata": {
        "pycharm": {
          "name": "#%%\n"
        },
        "id": "JDT-XVS2Mq-r"
      },
      "outputs": [],
      "source": []
    },
    {
      "cell_type": "code",
      "execution_count": null,
      "metadata": {
        "pycharm": {
          "name": "#%%\n"
        },
        "id": "3S3COjDyMq-r"
      },
      "outputs": [],
      "source": []
    }
  ],
  "metadata": {
    "kernelspec": {
      "display_name": "Python 3 (ipykernel)",
      "language": "python",
      "name": "python3"
    },
    "language_info": {
      "codemirror_mode": {
        "name": "ipython",
        "version": 3
      },
      "file_extension": ".py",
      "mimetype": "text/x-python",
      "name": "python",
      "nbconvert_exporter": "python",
      "pygments_lexer": "ipython3",
      "version": "3.8.5"
    },
    "colab": {
      "provenance": [],
      "include_colab_link": true
    }
  },
  "nbformat": 4,
  "nbformat_minor": 0
}