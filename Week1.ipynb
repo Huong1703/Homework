{
  "nbformat": 4,
  "nbformat_minor": 0,
  "metadata": {
    "colab": {
      "provenance": [],
      "authorship_tag": "ABX9TyMpn686i5ZIHKVvZtO5hhdn",
      "include_colab_link": true
    },
    "kernelspec": {
      "name": "python3",
      "display_name": "Python 3"
    },
    "language_info": {
      "name": "python"
    }
  },
  "cells": [
    {
      "cell_type": "markdown",
      "metadata": {
        "id": "view-in-github",
        "colab_type": "text"
      },
      "source": [
        "<a href=\"https://colab.research.google.com/github/Huong1703/Homework/blob/main/Week1.ipynb\" target=\"_parent\"><img src=\"https://colab.research.google.com/assets/colab-badge.svg\" alt=\"Open In Colab\"/></a>"
      ]
    },
    {
      "cell_type": "markdown",
      "source": [
        "1. Viết hàm average nhận 5 tham số và trả về giá trị trung bình cộng của chúng"
      ],
      "metadata": {
        "id": "D7POtSjtBuCC"
      }
    },
    {
      "cell_type": "code",
      "source": [
        "import math\n",
        "def average():\n",
        "    a = int(input(\"a = \"))\n",
        "    b = int(input(\"b = \"))\n",
        "    c = int(input(\"c = \"))\n",
        "    d = int(input(\"d = \"))\n",
        "    e = int(input(\"e = \"))\n",
        "    tbc = (a+b+c+d+e)/5\n",
        "    print(tbc)\n",
        "\n",
        "average()"
      ],
      "metadata": {
        "colab": {
          "base_uri": "https://localhost:8080/"
        },
        "id": "6jf3RhSJEp4_",
        "outputId": "20161b99-49d4-41cf-8791-8048e47b441b"
      },
      "execution_count": null,
      "outputs": [
        {
          "output_type": "stream",
          "name": "stdout",
          "text": [
            "a = 5\n",
            "b = 7\n",
            "c = 4\n",
            "d = 7\n",
            "e = 8\n",
            "6.2\n"
          ]
        }
      ]
    },
    {
      "cell_type": "markdown",
      "source": [
        "2. Viết hàm area trả về diện tích tam giác khi biết độ dài ba cạnh của chúng"
      ],
      "metadata": {
        "id": "vdmsJZYVCADn"
      }
    },
    {
      "cell_type": "code",
      "source": [
        "import math\n",
        "def area():\n",
        "    a = int(input(\"a = \"))\n",
        "    b = int(input(\"b = \"))\n",
        "    c = int(input(\"c =\"))\n",
        "    p = (a+b+c)/2\n",
        "    S = math.sqrt(p*(p-a)*(p-b)*(p-c))\n",
        "    print(S)\n",
        "\n",
        "area()"
      ],
      "metadata": {
        "colab": {
          "base_uri": "https://localhost:8080/"
        },
        "id": "EtL_dkRcF5nU",
        "outputId": "3a0d641d-5f15-493f-a507-18dd5c1d9284"
      },
      "execution_count": null,
      "outputs": [
        {
          "output_type": "stream",
          "name": "stdout",
          "text": [
            "a = 6\n",
            "b = 8\n",
            "c =5\n",
            "14.981238266578634\n"
          ]
        }
      ]
    },
    {
      "cell_type": "markdown",
      "source": [
        "3. Viết hàm area2 trả về diện tích tam giác biết tọa độ (x, y) của ba đỉnh tam giác"
      ],
      "metadata": {
        "id": "aeqXZBbvCI-O"
      }
    },
    {
      "cell_type": "code",
      "source": [
        "import math\n",
        "\n",
        "def area2():\n",
        "  x1, y1 = map(float, input(\"(x1, y1): \").split())\n",
        "  x2, y2 = map(float, input(\"(x2, y2): \").split())\n",
        "  x3, y3 = map(float, input(\"(x3, y3): \").split())\n",
        "  S = 0.5 * abs(x1*(y2-y3) + x2*(y3-y1) + x3*(y1-y2))\n",
        "  print(S)\n",
        "\n",
        "area2()\n"
      ],
      "metadata": {
        "colab": {
          "base_uri": "https://localhost:8080/"
        },
        "id": "wV84AfHMF5Lj",
        "outputId": "725a27bc-87ca-4b21-d4ac-c32e834eff4a"
      },
      "execution_count": null,
      "outputs": [
        {
          "output_type": "stream",
          "name": "stdout",
          "text": [
            "(x1, y1): 4 6\n",
            "(x2, y2): 5 3\n",
            "(x3, y3): 7 3\n",
            "3.0\n"
          ]
        }
      ]
    },
    {
      "cell_type": "markdown",
      "source": [
        "4. Viết hàm total nhận số nguyên N làm tham số, hàm trả về tổng các chữ số của số N (chẳng hạn N=132 thì hàm total trả về 6)"
      ],
      "metadata": {
        "id": "iaCnexJGCQOm"
      }
    },
    {
      "cell_type": "code",
      "source": [
        "import math\n",
        "def total():\n",
        "  N = int(input(\"N: \"))\n",
        "  str_N = str(N)\n",
        "  sum_digits = sum(int(digit) for digit in str_N)\n",
        "  print(sum_digits)\n",
        "\n",
        "total()"
      ],
      "metadata": {
        "colab": {
          "base_uri": "https://localhost:8080/"
        },
        "id": "jLbX1BQJHkvj",
        "outputId": "a5049200-153b-4206-c7cd-15ffe0dea962"
      },
      "execution_count": null,
      "outputs": [
        {
          "output_type": "stream",
          "name": "stdout",
          "text": [
            "N: 435\n",
            "12\n"
          ]
        }
      ]
    },
    {
      "cell_type": "markdown",
      "source": [
        "5. Viết hàm isFibo nhận số nguyên N làm tham số, hàm kiểm tra xem N có phải số fibonacci hay không? Trả về True nếu đúng, ngược lại trả về False"
      ],
      "metadata": {
        "id": "NTvAM1-6CeiN"
      }
    },
    {
      "cell_type": "code",
      "source": [
        "def isFibo(N):\n",
        "    a, b = 0, 1\n",
        "    while a < N:\n",
        "        a, b = b, a + b\n",
        "    return a == N\n",
        "\n",
        "N = int(input(\"N: \"))\n",
        "result = isFibo(N)\n",
        "\n",
        "if result:\n",
        "    print(\"True\")\n",
        "else:\n",
        "    print(\"False\")\n",
        "\n"
      ],
      "metadata": {
        "colab": {
          "base_uri": "https://localhost:8080/"
        },
        "id": "gLXb169QJIY2",
        "outputId": "d2010b45-b2fb-429c-cf38-aababd330e6c"
      },
      "execution_count": null,
      "outputs": [
        {
          "output_type": "stream",
          "name": "stdout",
          "text": [
            "Nhập một số nguyên N: 3\n",
            "True\n"
          ]
        }
      ]
    },
    {
      "cell_type": "markdown",
      "source": [
        "6. Viết chương trình nhập số nguyên dương N và tính giá trị hàm F(N) dưới đây\n",
        "        F(N)=1! + 2! +...+ N!"
      ],
      "metadata": {
        "id": "VIetYlWTCsa1"
      }
    },
    {
      "cell_type": "code",
      "source": [
        "N = int(input(\"số nguyên dương N: \"))\n",
        "def tinh_giai_thua(n):\n",
        "    if n == 0 or n == 1:\n",
        "        return 1\n",
        "    else:\n",
        "        return n * tinh_giai_thua(n - 1)\n",
        "\n",
        "def tinh_F(N):\n",
        "    tong = 0\n",
        "    for i in range(1, N + 1):\n",
        "        tong += tinh_giai_thua(i)\n",
        "    return tong\n",
        "\n",
        "ket_qua = tinh_F(N)\n",
        "print(\"Giá trị hàm F({}) là: {}\".format(N, ket_qua))\n",
        "\n"
      ],
      "metadata": {
        "colab": {
          "base_uri": "https://localhost:8080/"
        },
        "id": "U17jsLqZM4hy",
        "outputId": "3732cffa-b913-493e-85b7-5a04d0dcdb19"
      },
      "execution_count": null,
      "outputs": [
        {
          "output_type": "stream",
          "name": "stdout",
          "text": [
            "số nguyên dương N: 3\n",
            "Giá trị hàm F(3) là: 9\n"
          ]
        }
      ]
    },
    {
      "cell_type": "markdown",
      "source": [
        "7. Nhập chương trình nhập điểm trung bình học tập của một sinh viên, sau đó dự trên quy tắc dưới đây và đánh giá kết quả học tập của sinh đó:\n",
        "- Điểm dưới 3.5: xếp loại yếu\n",
        "- Điểm từ 3.5 đến dưới 5: xếp loại kém\n",
        "- Điểm từ 5 đến dưới 6.5: xếp loại trung bình\n",
        "- Điểm từ 6.5 đến dưới 8: xếp loại khá\n",
        "- Điểm từ 8 đến dưới 9: xếp loại giỏi\n",
        "- Điểm từ 9 trở lên: xếp loại xuất sắc"
      ],
      "metadata": {
        "id": "vGrXq9gLDgwr"
      }
    },
    {
      "cell_type": "code",
      "source": [
        "diem_tb = float(input(\"điểm trung bình: \"))\n",
        "\n",
        "if diem_tb < 3.5:\n",
        "    xep_loai = \"Yếu\"\n",
        "elif 3.5 <= diem_tb < 5:\n",
        "    xep_loai = \"Kém\"\n",
        "elif 5 <= diem_tb < 6.5:\n",
        "    xep_loai = \"Trung bình\"\n",
        "elif 6.5 <= diem_tb < 8:\n",
        "    xep_loai = \"Khá\"\n",
        "elif 8 <= diem_tb < 9:\n",
        "    xep_loai = \"Giỏi\"\n",
        "else:\n",
        "    xep_loai = \"Xuất sắc\"\n",
        "\n",
        "print(\"xếp loại:\", xep_loai)\n"
      ],
      "metadata": {
        "colab": {
          "base_uri": "https://localhost:8080/"
        },
        "id": "1iGRrmskRLgY",
        "outputId": "233dc9d0-c9fc-41ac-9bdf-3e2c590bc941"
      },
      "execution_count": null,
      "outputs": [
        {
          "output_type": "stream",
          "name": "stdout",
          "text": [
            "điểm trung bình: 7\n",
            "xep loại: Khá\n"
          ]
        }
      ]
    },
    {
      "cell_type": "markdown",
      "source": [
        "8. Nhập vào từ bàn phím ba số a, b và c. Thực hiện các công việc dưới đây:\n",
        "- In ra màn hình giá trị lớn nhất trong ba số\n",
        "- Nếu có ít nhất hai số cùng nhận giá trị lớn nhất, in ra giá trị thứ ba còn lại"
      ],
      "metadata": {
        "id": "wY1ZHx5MECYK"
      }
    },
    {
      "cell_type": "code",
      "source": [
        "a = float(input(\"a = \"))\n",
        "b = float(input(\"b = \"))\n",
        "c = float(input(\"c = \"))\n",
        "\n",
        "max_value = max(a, b, c)\n",
        "print(\"GTLN\", max_value)"
      ],
      "metadata": {
        "colab": {
          "base_uri": "https://localhost:8080/"
        },
        "id": "g52ftgEBRhNP",
        "outputId": "c503f3b1-cad5-4edf-feca-5501944451ea"
      },
      "execution_count": null,
      "outputs": [
        {
          "output_type": "stream",
          "name": "stdout",
          "text": [
            "a = 4\n",
            "b = 5\n",
            "c = 6\n",
            "GTLN 6.0\n"
          ]
        }
      ]
    },
    {
      "cell_type": "markdown",
      "source": [
        "9. Nhập vào từ bàn phím thông tin về ngày X, bằng cách nhập ba số nguyên d, m và y lần lượt là giá trị ngày (d) tháng (m) và năm (y) của X. Tính và in ra ngày tiếp sau của X"
      ],
      "metadata": {
        "id": "2VevSTS2EW8p"
      }
    },
    {
      "cell_type": "code",
      "source": [
        "day = int(input(\"d = \"))\n",
        "month = int(input(\"m = \"))\n",
        "year = int(input(\"y = \"))\n",
        "\n",
        "if month in [1, 3, 5, 7, 8, 10, 12]:\n",
        "    max_day = 31\n",
        "elif month in [4, 6, 9, 11]:\n",
        "    max_day = 30\n",
        "else:\n",
        "    if (year % 4 == 0 and year % 100 != 0) or (year % 400 == 0):\n",
        "        max_day = 29\n",
        "    else:\n",
        "        max_day = 28\n",
        "\n",
        "if day < max_day:\n",
        "    d_next = day + 1\n",
        "    m_next = month\n",
        "    y_next = year\n",
        "else:\n",
        "    d_next = 1\n",
        "    if month < 12:\n",
        "        m_next = month + 1\n",
        "        y_next = year\n",
        "    else:\n",
        "        m_next = 1\n",
        "        y_next = year + 1\n",
        "\n",
        "print(f\"Ngày tiếp theo là: {d_next}-{m_next}-{y_next}\")\n"
      ],
      "metadata": {
        "colab": {
          "base_uri": "https://localhost:8080/"
        },
        "id": "FSIv-_xrTIbx",
        "outputId": "6b0283bf-6044-4eed-9908-a826f253fc96"
      },
      "execution_count": null,
      "outputs": [
        {
          "output_type": "stream",
          "name": "stdout",
          "text": [
            "d = 1\n",
            "m = 1\n",
            "y = 2024\n",
            "Ngày tiếp theo là: 2-1-2024\n"
          ]
        }
      ]
    }
  ]
}