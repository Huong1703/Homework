{
  "nbformat": 4,
  "nbformat_minor": 0,
  "metadata": {
    "colab": {
      "provenance": [],
      "authorship_tag": "ABX9TyNCoL4Qrdk8lYnPZgXozHGi",
      "include_colab_link": true
    },
    "kernelspec": {
      "name": "python3",
      "display_name": "Python 3"
    },
    "language_info": {
      "name": "python"
    }
  },
  "cells": [
    {
      "cell_type": "markdown",
      "metadata": {
        "id": "view-in-github",
        "colab_type": "text"
      },
      "source": [
        "<a href=\"https://colab.research.google.com/github/Huong1703/Homework/blob/main/Week5_6.ipynb\" target=\"_parent\"><img src=\"https://colab.research.google.com/assets/colab-badge.svg\" alt=\"Open In Colab\"/></a>"
      ]
    },
    {
      "cell_type": "markdown",
      "source": [
        "Viết chương trình người dùng nhập vào 2 mảng 2 chiều có cùng kích thước (với điều kiện không có số 0) Thực hiện các phép toán cộng, trừ, nhân, chia các phần tử của 2 mảng đó.\n",
        "\n",
        "- Tính tổng các phần tử theo cột của mảng cuối cùng. (np.sum)\n",
        "- Tính tích các phần tử theo hàng của mảng cuối cùng. (np.prod)"
      ],
      "metadata": {
        "id": "ZGDKmu5Fw-m8"
      }
    },
    {
      "cell_type": "code",
      "source": [
        "import numpy as np\n",
        "\n",
        "def main():\n",
        "    rows = int(input(\"Nhập số hàng: \"))\n",
        "    cols = int(input(\"Nhập số cột: \"))\n",
        "\n",
        "    print(\"Nhập mảng thứ nhất:\")\n",
        "    array1 = get_input_array(rows, cols)\n",
        "\n",
        "    print(\"Nhập mảng thứ hai:\")\n",
        "    array2 = get_input_array(rows, cols)\n",
        "\n",
        "    add_result = np.add(array1, array2)\n",
        "    subtract_result = np.subtract(array1, array2)\n",
        "    multiply_result = np.multiply(array1, array2)\n",
        "    divide_result = np.divide(array1, array2, where=array2!=0)\n",
        "\n",
        "    print(\"Kết quả\")\n",
        "    print(\"Cộng:\")\n",
        "    print(add_result)\n",
        "    print(\"Trừ:\")\n",
        "    print(subtract_result)\n",
        "    print(\"Nhân:\")\n",
        "    print(multiply_result)\n",
        "    print(\"Chia:\")\n",
        "    print(divide_result)\n",
        "\n",
        "    column_sum = np.sum(divide_result, axis=0)\n",
        "    print(\"\\nTổng theo cột của mảng cuối cùng:\")\n",
        "    print(column_sum)\n",
        "\n",
        "    row_product = np.prod(divide_result, axis=1)\n",
        "    print(\"\\nTích theo hàng của mảng cuối cùng:\")\n",
        "    print(row_product)\n",
        "\n",
        "def get_input_array(rows, cols):\n",
        "    array = np.empty((rows, cols), dtype=float)\n",
        "    for i in range(rows):\n",
        "        for j in range(cols):\n",
        "            array[i, j] = float(input(f\"Nhập phần tử [{i}][{j}]: \"))\n",
        "    return array\n",
        "main()\n"
      ],
      "metadata": {
        "colab": {
          "base_uri": "https://localhost:8080/"
        },
        "id": "RYRl6yQ1xBYx",
        "outputId": "77888410-d5c1-4043-839c-9c68af1517f8"
      },
      "execution_count": null,
      "outputs": [
        {
          "output_type": "stream",
          "name": "stdout",
          "text": [
            "Nhập số hàng: 2\n",
            "Nhập số cột: 3\n",
            "Nhập mảng thứ nhất:\n",
            "Nhập phần tử [0][0]: 4\n",
            "Nhập phần tử [0][1]: 0\n",
            "Nhập phần tử [0][2]: 2\n",
            "Nhập phần tử [1][0]: 3\n",
            "Nhập phần tử [1][1]: 4\n",
            "Nhập phần tử [1][2]: 8\n",
            "Nhập mảng thứ hai:\n",
            "Nhập phần tử [0][0]: 6\n",
            "Nhập phần tử [0][1]: 7\n",
            "Nhập phần tử [0][2]: 5\n",
            "Nhập phần tử [1][0]: 3\n",
            "Nhập phần tử [1][1]: 4\n",
            "Nhập phần tử [1][2]: 8\n",
            "\n",
            "Kết quả của các phép toán:\n",
            "Cộng:\n",
            "[[10.  7.  7.]\n",
            " [ 6.  8. 16.]]\n",
            "\n",
            "Trừ:\n",
            "[[-2. -7. -3.]\n",
            " [ 0.  0.  0.]]\n",
            "\n",
            "Nhân:\n",
            "[[24.  0. 10.]\n",
            " [ 9. 16. 64.]]\n",
            "\n",
            "Chia:\n",
            "[[0.66666667 0.         0.4       ]\n",
            " [1.         1.         1.        ]]\n",
            "\n",
            "Tổng theo cột của mảng cuối cùng:\n",
            "[1.66666667 1.         1.4       ]\n",
            "\n",
            "Tích theo hàng của mảng cuối cùng:\n",
            "[0. 1.]\n"
          ]
        }
      ]
    },
    {
      "cell_type": "markdown",
      "source": [
        "Bài tập ma trận"
      ],
      "metadata": {
        "id": "ic0OKP4KK9zs"
      }
    },
    {
      "cell_type": "code",
      "source": [
        "import numpy as np\n",
        "A = np.array([[10, 1, 2],\n",
        "             [9, 7, 4],\n",
        "             [0, 2, 1]])\n",
        "B = np.array([[2, 3, 4],\n",
        "             [0, 4, 2],\n",
        "             [3, 2, 1]])"
      ],
      "metadata": {
        "id": "n9l3le_sU1Ch"
      },
      "execution_count": null,
      "outputs": []
    },
    {
      "cell_type": "code",
      "source": [
        "result = np.dot(A, B)\n",
        "\n",
        "print(\"Tích của hai ma trận A và B:\")\n",
        "print(result)"
      ],
      "metadata": {
        "colab": {
          "base_uri": "https://localhost:8080/"
        },
        "id": "6lTi_38hVuLG",
        "outputId": "11735963-3653-44ac-9e67-7dad6d8e0372"
      },
      "execution_count": null,
      "outputs": [
        {
          "output_type": "stream",
          "name": "stdout",
          "text": [
            "Tích của hai ma trận A và B:\n",
            "[[26 38 44]\n",
            " [30 63 54]\n",
            " [ 3 10  5]]\n"
          ]
        }
      ]
    },
    {
      "cell_type": "code",
      "source": [
        "A_transpose = A.T\n",
        "\n",
        "BA_transpose = np.dot(B, A_transpose)\n",
        "AB_transpose = np.dot(A_transpose, B)\n",
        "\n",
        "result = np.dot(BA_transpose, AB_transpose)\n",
        "\n",
        "print(\"BA^TAB^T:\")\n",
        "print(result)"
      ],
      "metadata": {
        "colab": {
          "base_uri": "https://localhost:8080/"
        },
        "id": "GgxQAplhWAIU",
        "outputId": "4ff026e3-094c-4af1-dc7f-b73af685d3fc"
      },
      "execution_count": null,
      "outputs": [
        {
          "output_type": "stream",
          "name": "stdout",
          "text": [
            "BA^TAB^T:\n",
            "[[1130 4211 3068]\n",
            " [ 518 2028 1354]\n",
            " [1075 3939 2957]]\n"
          ]
        }
      ]
    },
    {
      "cell_type": "code",
      "source": [
        "B_transpose = B.T\n",
        "\n",
        "AB_transpose = np.dot(A, B_transpose)\n",
        "BA_transpose = np.dot(B, A.T)\n",
        "\n",
        "result = np.dot(AB_transpose, BA_transpose)\n",
        "\n",
        "print(\"AB^TBA^T:\")\n",
        "print(result)"
      ],
      "metadata": {
        "colab": {
          "base_uri": "https://localhost:8080/"
        },
        "id": "vt_yVpDeWYdq",
        "outputId": "b06d4eb5-f628-4587-a00b-871c7853bf97"
      },
      "execution_count": null,
      "outputs": [
        {
          "output_type": "stream",
          "name": "stdout",
          "text": [
            "AB^TBA^T:\n",
            "[[2181 3523  560]\n",
            " [3523 6346 1135]\n",
            " [ 560 1135  225]]\n"
          ]
        }
      ]
    },
    {
      "cell_type": "code",
      "source": [
        "def softmax(matrix):\n",
        "    exp_matrix = np.exp(matrix)\n",
        "    return exp_matrix / np.sum(exp_matrix, axis=1, keepdims=True)\n",
        "\n",
        "A = np.array([[10, 1, 2],\n",
        "              [9, 7, 4],\n",
        "              [0, 2, 1]])\n",
        "\n",
        "softmax_result = softmax(A)\n",
        "\n",
        "print(\"Phân phối xác suất sau khi đi qua hàm softmax:\")\n",
        "print(softmax_result)"
      ],
      "metadata": {
        "colab": {
          "base_uri": "https://localhost:8080/"
        },
        "id": "gA3t705zW7DA",
        "outputId": "1e1c3879-64ad-4d13-8700-8a03599f49dd"
      },
      "execution_count": null,
      "outputs": [
        {
          "output_type": "stream",
          "name": "stdout",
          "text": [
            "Phân phối xác suất sau khi đi qua hàm softmax:\n",
            "[[9.99541338e-01 1.23353201e-04 3.35308764e-04]\n",
            " [8.75600595e-01 1.18499655e-01 5.89975040e-03]\n",
            " [9.00305732e-02 6.65240956e-01 2.44728471e-01]]\n"
          ]
        }
      ]
    },
    {
      "cell_type": "code",
      "source": [
        "predicted_labels = np.argmax(softmax_result, axis=1)\n",
        "\n",
        "print(\"Nhãn dự báo cho mỗi dòng:\")\n",
        "print(predicted_labels)"
      ],
      "metadata": {
        "colab": {
          "base_uri": "https://localhost:8080/"
        },
        "id": "ATD5eJGDXMDw",
        "outputId": "d7390b4f-4d64-4195-8c7f-17f830d528e7"
      },
      "execution_count": null,
      "outputs": [
        {
          "output_type": "stream",
          "name": "stdout",
          "text": [
            "Nhãn dự báo cho mỗi dòng:\n",
            "[0 0 1]\n"
          ]
        }
      ]
    },
    {
      "cell_type": "code",
      "source": [
        "sum_per_row = np.sum(A, axis=1)\n",
        "mean_per_row = np.mean(A, axis=1)\n",
        "min_per_row = np.min(A, axis=1)\n",
        "max_per_row = np.max(A, axis=1)\n",
        "\n",
        "print(\"Tổng\", sum_per_row)\n",
        "print(\"TB\", mean_per_row)\n",
        "print(\"GTNN\", min_per_row)\n",
        "print(\"GTLN\", max_per_row)"
      ],
      "metadata": {
        "colab": {
          "base_uri": "https://localhost:8080/"
        },
        "id": "fGpnqqbnXXg2",
        "outputId": "c438e554-7bab-4b49-fe80-1cd3637c6ba1"
      },
      "execution_count": null,
      "outputs": [
        {
          "output_type": "stream",
          "name": "stdout",
          "text": [
            "Tổng [13 20  3]\n",
            "TB [4.33333333 6.66666667 1.        ]\n",
            "GTNN [1 4 0]\n",
            "GTLN [10  9  2]\n"
          ]
        }
      ]
    },
    {
      "cell_type": "markdown",
      "source": [
        "Bài tập với file excel"
      ],
      "metadata": {
        "id": "CanGnhvnqduJ"
      }
    },
    {
      "cell_type": "code",
      "source": [
        "## Kết nối google drive và google collab\n",
        "from google.colab import drive\n",
        "\n",
        "drive.mount(\"/content/drive\")\n"
      ],
      "metadata": {
        "colab": {
          "base_uri": "https://localhost:8080/"
        },
        "id": "FMvrpO3Lqk73",
        "outputId": "fbacd70f-fcb0-4672-bf2c-fcd9095293b7"
      },
      "execution_count": null,
      "outputs": [
        {
          "output_type": "stream",
          "name": "stdout",
          "text": [
            "Mounted at /content/drive\n"
          ]
        }
      ]
    },
    {
      "cell_type": "code",
      "source": [
        "## Gọi ra những thư viện cần thiết\n",
        "import numpy as np\n",
        "import pandas as pd"
      ],
      "metadata": {
        "id": "ubiRV2dVqvX2"
      },
      "execution_count": null,
      "outputs": []
    },
    {
      "cell_type": "code",
      "source": [
        "## Đọc file data từ google drive\n",
        "dataset = pd.read_excel(\"/content/drive/MyDrive/Week4-data_06.xlsx\")\n",
        "print(dataset)\n",
        "print(dataset.head())"
      ],
      "metadata": {
        "colab": {
          "base_uri": "https://localhost:8080/"
        },
        "id": "n1Ik7e-9qxtg",
        "outputId": "756c204e-9305-401d-f272-3ead4e03d592"
      },
      "execution_count": null,
      "outputs": [
        {
          "output_type": "stream",
          "name": "stdout",
          "text": [
            "                     Tên  Mã số               Trường cấp 2  Nguyện vọng 1  \\\n",
            "0           QUÁCH KIM HÀ  60132             THCS Phú Cường              6   \n",
            "1       PHẠM TRÚC PHƯƠNG  60421        THCS Trần Đại Nghĩa              6   \n",
            "2         TRẦN KHẢ DOANH  60075    THCS-THPT Nguyễn Khuyến              6   \n",
            "3      NGUYỄN MAI PHƯƠNG  60417        THCS Trần Đại Nghĩa              6   \n",
            "4          TRẦN MINH THY  60558  THCS Nguyễn Thị Minh Khai              6   \n",
            "..                   ...    ...                        ...            ...   \n",
            "636        TRẦN NHẬT ANH  60032       THCS Nguyễn Văn Tiết              6   \n",
            "637  DOÃN THỊ PHƯƠNG ANH  60017            THCS Bình Chiểu              6   \n",
            "638       CÙ THỊ GIA HÂN  60151     THCS Nguyễn Trung Trực              6   \n",
            "639      NGUYỄN TƯỜNG VY  60622        THCS Trịnh Hoài Đức              6   \n",
            "640         LƯU QUANG ĐÔ  60108        THCS Trịnh Hoài Đức              6   \n",
            "\n",
            "     Nguyện vọng 2  Điểm cộng   Văn   Anh  Toán   Tổng  Xếp hạng  \n",
            "0              2.0        3.0  9.00   8.9  8.75  29.65         1  \n",
            "1              7.0        2.0  8.75   9.6  9.25  29.60         2  \n",
            "2              7.0        2.0  8.25   9.6  9.25  29.10         3  \n",
            "3              7.0        NaN  8.75  10.0  9.25  28.00         4  \n",
            "4              2.0        2.0  8.25   9.7  8.00  27.95         5  \n",
            "..             ...        ...   ...   ...   ...    ...       ...  \n",
            "636            8.0        NaN  6.75   3.9  2.75  13.40       637  \n",
            "637           30.0        NaN  6.25   3.6  3.50  13.35       638  \n",
            "638            8.0        NaN  6.00   3.5  3.25  12.75       639  \n",
            "639            8.0        NaN  6.25   3.2  3.00  12.45       640  \n",
            "640           30.0        NaN  5.50   2.4  3.75  11.65       641  \n",
            "\n",
            "[641 rows x 11 columns]\n",
            "                 Tên  Mã số               Trường cấp 2  Nguyện vọng 1  \\\n",
            "0       QUÁCH KIM HÀ  60132             THCS Phú Cường              6   \n",
            "1   PHẠM TRÚC PHƯƠNG  60421        THCS Trần Đại Nghĩa              6   \n",
            "2     TRẦN KHẢ DOANH  60075    THCS-THPT Nguyễn Khuyến              6   \n",
            "3  NGUYỄN MAI PHƯƠNG  60417        THCS Trần Đại Nghĩa              6   \n",
            "4      TRẦN MINH THY  60558  THCS Nguyễn Thị Minh Khai              6   \n",
            "\n",
            "   Nguyện vọng 2  Điểm cộng   Văn   Anh  Toán   Tổng  Xếp hạng  \n",
            "0            2.0        3.0  9.00   8.9  8.75  29.65         1  \n",
            "1            7.0        2.0  8.75   9.6  9.25  29.60         2  \n",
            "2            7.0        2.0  8.25   9.6  9.25  29.10         3  \n",
            "3            7.0        NaN  8.75  10.0  9.25  28.00         4  \n",
            "4            2.0        2.0  8.25   9.7  8.00  27.95         5  \n"
          ]
        }
      ]
    },
    {
      "cell_type": "code",
      "source": [
        "data = dataset.to_numpy()\n",
        "print(data.shape)"
      ],
      "metadata": {
        "colab": {
          "base_uri": "https://localhost:8080/"
        },
        "id": "02Cl26WgrqFU",
        "outputId": "ab259b60-a7ca-4424-f52e-c73e16c08a7d"
      },
      "execution_count": null,
      "outputs": [
        {
          "output_type": "stream",
          "name": "stdout",
          "text": [
            "(641, 11)\n"
          ]
        }
      ]
    },
    {
      "cell_type": "code",
      "source": [
        "print(data[0])"
      ],
      "metadata": {
        "colab": {
          "base_uri": "https://localhost:8080/"
        },
        "id": "WXkHDlOArvwB",
        "outputId": "3a666e3b-0eac-49df-a171-739ae6368626"
      },
      "execution_count": null,
      "outputs": [
        {
          "output_type": "stream",
          "name": "stdout",
          "text": [
            "['QUÁCH KIM HÀ' 60132 'THCS Phú Cường' 6 2.0 3.0 9.0 8.9 8.75 29.65 1]\n"
          ]
        }
      ]
    },
    {
      "cell_type": "code",
      "source": [
        "print(data.dtype)"
      ],
      "metadata": {
        "colab": {
          "base_uri": "https://localhost:8080/"
        },
        "id": "Zdicln-crxX6",
        "outputId": "d4afa4ac-2375-4ce3-924f-ac1ae39f3798"
      },
      "execution_count": null,
      "outputs": [
        {
          "output_type": "stream",
          "name": "stdout",
          "text": [
            "object\n"
          ]
        }
      ]
    },
    {
      "cell_type": "code",
      "source": [
        "print(data[0].dtype)"
      ],
      "metadata": {
        "colab": {
          "base_uri": "https://localhost:8080/"
        },
        "id": "yr296cMWrzfx",
        "outputId": "f969ac6a-2d50-4e8b-cd5b-f4972a97a3c2"
      },
      "execution_count": null,
      "outputs": [
        {
          "output_type": "stream",
          "name": "stdout",
          "text": [
            "object\n"
          ]
        }
      ]
    },
    {
      "cell_type": "code",
      "source": [
        "np.nan_to_num([0.3, np.nan, 2.4])"
      ],
      "metadata": {
        "colab": {
          "base_uri": "https://localhost:8080/"
        },
        "id": "GD9oXL7mr0Yh",
        "outputId": "dd297c81-a1d2-4b13-b613-4dd4cdf93ad4"
      },
      "execution_count": null,
      "outputs": [
        {
          "output_type": "execute_result",
          "data": {
            "text/plain": [
              "array([0.3, 0. , 2.4])"
            ]
          },
          "metadata": {},
          "execution_count": 10
        }
      ]
    },
    {
      "cell_type": "code",
      "source": [
        "data[:, 5] = np.nan_to_num(data[:, 5].astype(float))\n",
        "print(data[:, 5])\n",
        "print(data[-1])"
      ],
      "metadata": {
        "colab": {
          "base_uri": "https://localhost:8080/"
        },
        "id": "D9A5E7BRr3KJ",
        "outputId": "d34ba037-0402-425b-ff2f-a9c1beb6f017"
      },
      "execution_count": null,
      "outputs": [
        {
          "output_type": "stream",
          "name": "stdout",
          "text": [
            "[3.0 2.0 2.0 0.0 2.0 0.0 2.0 0.0 0.0 2.0 2.0 0.0 1.0 0.0 0.0 2.0 2.0 1.0\n",
            " 0.0 1.0 0.0 0.0 0.0 0.0 2.0 2.0 2.0 0.0 2.0 0.0 0.0 2.0 0.0 0.0 0.0 0.0\n",
            " 0.0 0.0 0.0 0.0 2.0 0.0 2.0 0.0 2.0 0.0 2.5 0.0 0.0 0.0 2.0 0.0 0.0 0.0\n",
            " 0.0 0.0 0.0 0.0 0.0 1.0 0.0 0.0 0.0 1.0 0.0 0.0 0.0 0.0 0.0 0.0 0.0 0.0\n",
            " 1.0 0.0 2.0 0.0 1.0 0.0 1.0 2.0 0.0 0.0 0.0 0.0 0.0 2.0 0.0 2.0 1.0 0.0\n",
            " 1.0 0.0 1.0 0.0 1.0 0.0 0.0 1.0 0.0 1.0 2.0 0.0 0.0 0.0 0.0 0.0 2.0 0.0\n",
            " 0.0 1.0 0.0 0.0 0.0 0.0 1.0 1.0 1.0 0.0 1.0 0.0 0.0 0.0 1.0 0.0 2.0 0.0\n",
            " 0.0 2.0 0.0 0.0 0.0 0.0 0.0 0.0 0.0 0.0 1.0 1.0 0.0 0.0 1.0 0.0 0.0 0.0\n",
            " 0.0 1.0 0.0 2.0 0.0 0.0 0.0 2.0 2.0 1.0 1.0 0.0 0.0 0.0 0.0 2.0 0.0 0.0\n",
            " 1.0 0.0 1.0 0.0 0.0 0.0 0.0 0.0 0.0 0.0 2.0 1.0 0.0 0.0 0.0 0.0 0.0 0.0\n",
            " 2.0 0.0 2.0 0.0 0.0 0.0 0.0 0.0 0.0 0.0 1.0 0.0 0.0 1.0 0.0 0.0 0.0 0.0\n",
            " 0.0 0.0 0.0 1.0 2.0 0.0 0.0 0.0 0.0 2.0 0.0 1.0 0.0 0.0 0.0 1.0 0.0 0.0\n",
            " 0.0 0.0 1.0 0.0 0.0 0.0 0.0 0.0 0.0 1.0 0.0 0.0 0.0 0.0 0.0 1.0 0.0 0.0\n",
            " 1.0 1.0 1.0 0.0 0.0 0.0 0.0 0.0 0.0 0.0 0.0 0.0 0.0 1.0 0.0 0.0 0.0 0.0\n",
            " 2.0 1.0 0.0 0.0 0.0 0.0 0.0 0.0 0.0 0.0 0.0 1.0 0.0 0.0 2.0 0.0 0.0 0.0\n",
            " 1.5 0.0 1.0 0.0 0.0 0.0 0.0 2.0 0.0 0.0 0.0 0.0 0.0 0.0 0.0 0.0 1.0 0.0\n",
            " 0.0 0.0 1.0 0.0 0.0 0.0 0.0 2.0 0.0 0.0 0.0 0.0 0.0 0.0 0.0 0.0 0.0 0.0\n",
            " 1.0 0.0 0.0 0.0 0.0 0.0 0.0 0.0 2.0 0.0 0.0 0.0 0.0 0.0 0.0 0.0 0.0 0.0\n",
            " 0.0 0.0 0.0 0.0 0.0 0.0 0.0 0.0 0.0 0.0 0.0 0.0 0.0 0.0 0.0 1.0 0.0 0.0\n",
            " 0.0 0.0 0.0 0.0 0.0 1.0 0.0 0.0 0.0 0.0 0.0 0.0 0.0 0.0 0.0 2.0 0.0 0.0\n",
            " 0.0 0.0 1.0 0.0 0.0 0.0 0.0 0.0 0.0 1.0 1.0 0.0 0.0 0.0 0.0 0.0 0.0 0.0\n",
            " 0.0 0.0 0.0 0.0 0.0 0.0 0.0 0.0 0.0 0.0 0.0 0.0 0.0 0.0 0.0 0.0 0.0 0.0\n",
            " 0.0 0.0 0.0 0.0 0.0 0.0 0.0 0.0 0.0 0.0 0.0 0.0 0.0 0.0 0.0 0.0 0.0 1.0\n",
            " 0.0 0.0 0.0 0.0 0.0 0.0 0.0 0.0 0.0 0.0 0.0 0.0 0.0 1.0 0.0 0.0 0.0 1.0\n",
            " 0.0 0.0 0.0 1.0 0.0 0.0 0.0 0.0 0.0 0.0 0.0 0.0 0.0 0.0 0.0 0.0 0.0 0.0\n",
            " 0.0 0.0 0.0 0.0 0.0 0.0 0.0 0.0 0.0 0.0 0.0 0.0 0.0 0.0 0.0 0.0 0.0 0.0\n",
            " 0.0 0.0 0.0 0.0 0.0 0.0 0.0 0.0 0.0 0.0 0.0 0.0 0.0 0.0 0.0 0.0 0.0 0.0\n",
            " 0.0 0.0 0.0 0.0 1.0 0.0 0.0 0.0 0.0 0.0 0.0 0.0 0.0 0.0 0.0 0.0 1.0 0.0\n",
            " 0.0 0.0 0.0 0.0 0.0 0.0 0.0 0.0 0.0 0.0 0.0 0.0 0.0 0.0 0.0 0.0 0.0 0.0\n",
            " 0.0 0.0 0.0 0.0 0.0 0.0 0.0 0.0 0.0 0.0 0.0 0.0 1.0 1.0 1.0 0.0 0.0 0.0\n",
            " 0.0 0.0 0.0 0.0 0.0 0.0 0.0 0.0 0.0 0.0 0.0 0.0 0.0 1.0 0.0 0.0 0.0 0.0\n",
            " 0.0 0.0 0.0 0.0 0.0 0.0 0.0 0.0 0.0 0.0 0.0 0.0 0.0 0.0 0.0 0.0 0.0 0.0\n",
            " 0.0 0.0 0.0 0.0 0.0 0.0 0.0 0.0 0.0 0.0 0.0 0.0 0.0 0.0 1.0 0.0 0.0 0.0\n",
            " 0.0 0.0 0.0 0.0 0.0 0.0 0.0 1.0 1.0 0.0 0.0 0.0 0.0 0.0 0.0 0.0 0.0 0.0\n",
            " 0.0 0.0 0.0 0.0 0.0 0.0 0.0 0.0 0.0 1.0 0.0 0.0 0.0 1.0 0.0 0.0 0.0 0.0\n",
            " 0.0 0.0 0.0 0.0 0.0 0.0 0.0 0.0 0.0 0.0 0.0]\n",
            "['LƯU QUANG ĐÔ' 60108 'THCS Trịnh Hoài Đức' 6 30.0 0.0 5.5 2.4 3.75 11.65\n",
            " 641]\n"
          ]
        }
      ]
    },
    {
      "cell_type": "code",
      "source": [
        "## Đưa ra thông tin của bạn với mã số: 60457\n",
        "ma_so_can_tim = 60457\n",
        "thong_tin_hs = dataset[dataset['Mã số'] == ma_so_can_tim]\n",
        "print(\"Thông tin của học sinh có mã số\", ma_so_can_tim, \":\\n\", thong_tin_hs)"
      ],
      "metadata": {
        "colab": {
          "base_uri": "https://localhost:8080/"
        },
        "id": "fe3c6JrZr7l4",
        "outputId": "31be99c3-990b-4de3-a71d-e72f75f8a03c"
      },
      "execution_count": null,
      "outputs": [
        {
          "output_type": "stream",
          "name": "stdout",
          "text": [
            "\n",
            "Thông tin của học sinh có mã số 60457 :\n",
            "                       Tên  Mã số   Trường cấp 2  Nguyện vọng 1  Nguyện vọng 2  \\\n",
            "100  NGUYỄN LÊ PHƯƠNG TÂM  60457  THCS Phú Long              6            7.0   \n",
            "\n",
            "     Điểm cộng  Văn  Anh  Toán   Tổng  Xếp hạng  \n",
            "100        2.0  7.0  9.4  6.25  24.65       101  \n"
          ]
        }
      ]
    },
    {
      "cell_type": "code",
      "source": [
        "## Đưa ra thông tin của bạn với tên là: Nguyễn Đình Nhân\n",
        "ten_can_tim = \"Nguyễn Đình Nhân\"\n",
        "thong_tin_hs = dataset[dataset['Tên'] == ten_can_tim]\n",
        "print(\"Thông tin của học sinh có tên\", ten_can_tim, \":\\n\", thong_tin_hs)"
      ],
      "metadata": {
        "colab": {
          "base_uri": "https://localhost:8080/"
        },
        "id": "ycQsUCE3uS0W",
        "outputId": "c3d3f0e4-f8ef-4c87-d464-454fac5690ed"
      },
      "execution_count": null,
      "outputs": [
        {
          "output_type": "stream",
          "name": "stdout",
          "text": [
            "Thông tin của học sinh có tên Nguyễn Đình Nhân :\n",
            " Empty DataFrame\n",
            "Columns: [Tên, Mã số, Trường cấp 2, Nguyện vọng 1, Nguyện vọng 2, Điểm cộng, Văn, Anh, Toán, Tổng, Xếp hạng]\n",
            "Index: []\n"
          ]
        }
      ]
    },
    {
      "cell_type": "code",
      "source": [
        "## Đưa ra thông tin của các bạn từ mã số: 60004 đến  60200 (Bạn nào không có thì không cần đưa ra)\n",
        "tu = 60004\n",
        "den = 60200\n",
        "thong_tin_hs = dataset[(dataset['Mã số'] >= tu) & (dataset['Mã số'] <= den)]\n",
        "print(\"thông tin của các bạn từ mã số: 60004 đến  60200 (Bạn nào không có thì không cần đưa ra)\", thong_tin_hs)"
      ],
      "metadata": {
        "colab": {
          "base_uri": "https://localhost:8080/"
        },
        "id": "K-iOlJK_vRYy",
        "outputId": "36d01ace-a127-4c32-da79-f21a79f783a7"
      },
      "execution_count": null,
      "outputs": [
        {
          "output_type": "stream",
          "name": "stdout",
          "text": [
            "thông tin của các bạn từ mã số: 60004 đến  60200 (Bạn nào không có thì không cần đưa ra)                      Tên  Mã số               Trường cấp 2  Nguyện vọng 1  \\\n",
            "0           QUÁCH KIM HÀ  60132             THCS Phú Cường              6   \n",
            "2         TRẦN KHẢ DOANH  60075    THCS-THPT Nguyễn Khuyến              6   \n",
            "5     PHẠM LỢI NGỌC HIỀN  60158         THCS Châu Văn Liêm              6   \n",
            "7         ĐẶNG MINH CHÂU  60067  THCS Nguyễn Thị Minh Khai              6   \n",
            "10         NGÔ MỸ GIA AN  60004    THCS-THPT Nguyễn Khuyến              6   \n",
            "..                   ...    ...                        ...            ...   \n",
            "634      NGUYỄN TUẤN ANH  60033            THCS Thanh Bình              6   \n",
            "636        TRẦN NHẬT ANH  60032       THCS Nguyễn Văn Tiết              6   \n",
            "637  DOÃN THỊ PHƯƠNG ANH  60017            THCS Bình Chiểu              6   \n",
            "638       CÙ THỊ GIA HÂN  60151     THCS Nguyễn Trung Trực              6   \n",
            "640         LƯU QUANG ĐÔ  60108        THCS Trịnh Hoài Đức              6   \n",
            "\n",
            "     Nguyện vọng 2  Điểm cộng   Văn  Anh  Toán   Tổng  Xếp hạng  \\\n",
            "0              2.0        3.0  9.00  8.9  8.75  29.65         1   \n",
            "2              7.0        2.0  8.25  9.6  9.25  29.10         3   \n",
            "5              7.0        NaN  8.50  9.9  9.50  27.90         6   \n",
            "7              2.0        NaN  9.00  9.9  9.00  27.90         8   \n",
            "10             2.0        2.0  7.50  9.3  8.75  27.55        11   \n",
            "..             ...        ...   ...  ...   ...    ...       ...   \n",
            "634            8.0        NaN  3.50  4.7  5.50  13.70       635   \n",
            "636            8.0        NaN  6.75  3.9  2.75  13.40       637   \n",
            "637           30.0        NaN  6.25  3.6  3.50  13.35       638   \n",
            "638            8.0        NaN  6.00  3.5  3.25  12.75       639   \n",
            "640           30.0        NaN  5.50  2.4  3.75  11.65       641   \n",
            "\n",
            "     Điểm Trung Bình       ĐTB  \n",
            "0           8.883333  8.883333  \n",
            "2           9.033333  9.033333  \n",
            "5           9.300000  9.300000  \n",
            "7           9.300000  9.300000  \n",
            "10          8.516667  8.516667  \n",
            "..               ...       ...  \n",
            "634         4.566667  4.566667  \n",
            "636         4.466667  4.466667  \n",
            "637         4.450000  4.450000  \n",
            "638         4.250000  4.250000  \n",
            "640         3.883333  3.883333  \n",
            "\n",
            "[197 rows x 13 columns]\n"
          ]
        }
      ]
    },
    {
      "cell_type": "code",
      "source": [
        "## Tính điểm thi trung bình cho từng bạn sinh viên\n",
        "dataset['ĐTB'] = dataset[['Văn', 'Anh', 'Toán']].mean(axis=1)\n",
        "print(\"điểm thi trung bình cho từng bạn sinh viên:\\n\", dataset[['Tên', 'Điểm Trung Bình']])"
      ],
      "metadata": {
        "colab": {
          "base_uri": "https://localhost:8080/"
        },
        "id": "eEurMCp4xh9Y",
        "outputId": "80e76c04-e031-4eec-e02e-c3863fd8a09b"
      },
      "execution_count": null,
      "outputs": [
        {
          "output_type": "stream",
          "name": "stdout",
          "text": [
            "Thông tin của các bạn sinh viên với điểm trung bình:\n",
            "                      Tên  Điểm Trung Bình\n",
            "0           QUÁCH KIM HÀ         8.883333\n",
            "1       PHẠM TRÚC PHƯƠNG         9.200000\n",
            "2         TRẦN KHẢ DOANH         9.033333\n",
            "3      NGUYỄN MAI PHƯƠNG         9.333333\n",
            "4          TRẦN MINH THY         8.650000\n",
            "..                   ...              ...\n",
            "636        TRẦN NHẬT ANH         4.466667\n",
            "637  DOÃN THỊ PHƯƠNG ANH         4.450000\n",
            "638       CÙ THỊ GIA HÂN         4.250000\n",
            "639      NGUYỄN TƯỜNG VY         4.150000\n",
            "640         LƯU QUANG ĐÔ         3.883333\n",
            "\n",
            "[641 rows x 2 columns]\n"
          ]
        }
      ]
    },
    {
      "cell_type": "code",
      "source": [
        "## Tính điểm thi trung bình theo từng môn cho toàn bộ sinh viên\n",
        "diem_tb_mon = dataset[['Văn', 'Anh', 'Toán']].mean()\n",
        "print(\"điểm thi trung bình theo từng môn cho toàn bộ sinh viên:\\n\", diem_tb_mon)"
      ],
      "metadata": {
        "colab": {
          "base_uri": "https://localhost:8080/"
        },
        "id": "nZXayET1xmKI",
        "outputId": "7d8614f8-1a1b-41ff-ba41-82222d1a5b44"
      },
      "execution_count": null,
      "outputs": [
        {
          "output_type": "stream",
          "name": "stdout",
          "text": [
            "điểm thi trung bình theo từng môn cho toàn bộ sinh viên:\n",
            " Văn     7.287051\n",
            "Anh     6.996256\n",
            "Toán    7.108034\n",
            "dtype: float64\n"
          ]
        }
      ]
    },
    {
      "cell_type": "code",
      "source": [
        "## Đưa ra điểm thi trung bình cao nhất và thấp nhất cho toàn bộ 3 môn.\n",
        "diem_tb_cao_nhat = dataset['Điểm Trung Bình'].max()\n",
        "diem_tb_thap_nhat = dataset['Điểm Trung Bình'].min()\n",
        "print(\"Điểm trung bình cao nhất: \", diem_tb_cao_nhat)\n",
        "print(\"Điểm trung bình thấp nhất: \", diem_tb_thap_nhat)"
      ],
      "metadata": {
        "colab": {
          "base_uri": "https://localhost:8080/"
        },
        "id": "f81j9p3vylYG",
        "outputId": "7f82ae41-4556-410d-da9c-6ba154c53949"
      },
      "execution_count": null,
      "outputs": [
        {
          "output_type": "stream",
          "name": "stdout",
          "text": [
            "Điểm trung bình cao nhất:  9.333333333333334\n",
            "Điểm trung bình thấp nhất:  3.8833333333333333\n"
          ]
        }
      ]
    },
    {
      "cell_type": "code",
      "source": [
        "## Xếp danh sách dựa vào điểm trung bình của môn Toán + Anh, tìm bạn có vị trí 100\n",
        "dataset['Điểm Trung Bình Toán Anh'] = (dataset['Toán'] + dataset['Anh']) / 2\n",
        "df_sorted = dataset.sort_values(by='Điểm Trung Bình Toán Anh', ascending=False)\n",
        "\n",
        "vi_tri = 100\n",
        "thong_tin_vi_tri_100 = df_sorted.iloc[vi_tri - 1]\n",
        "\n",
        "print(\"Thông tin của bạn có vị trí\", vi_tri, \":\\n\", thong_tin_vi_tri_100)"
      ],
      "metadata": {
        "colab": {
          "base_uri": "https://localhost:8080/"
        },
        "id": "_qxYd14fyziD",
        "outputId": "4aed0dd8-3937-4409-c1d7-8aa7322e4b1d"
      },
      "execution_count": null,
      "outputs": [
        {
          "output_type": "stream",
          "name": "stdout",
          "text": [
            "Thông tin của bạn có vị trí 100 :\n",
            " Tên                         NGUYỄN NGỌC QUỲNH ANH\n",
            "Mã số                                       60010\n",
            "Trường cấp 2                  THCS Trịnh Hoài Đức\n",
            "Nguyện vọng 1                                   6\n",
            "Nguyện vọng 2                                 8.0\n",
            "Điểm cộng                                     2.0\n",
            "Văn                                           7.5\n",
            "Anh                                           9.8\n",
            "Toán                                         6.75\n",
            "Tổng                                        26.05\n",
            "Xếp hạng                                       41\n",
            "Điểm Trung Bình                          8.016667\n",
            "ĐTB                                      8.016667\n",
            "Điểm Trung Bình Toán Anh                    8.275\n",
            "Name: 40, dtype: object\n"
          ]
        }
      ]
    },
    {
      "cell_type": "code",
      "source": [
        "## Giả sử 1 trường lấy toàn bộ 300 sinh viên, dựa theo"
      ],
      "metadata": {
        "id": "jZZBe-jIGovH"
      },
      "execution_count": null,
      "outputs": []
    },
    {
      "cell_type": "code",
      "source": [
        "## a) Điểm môn Toán từ cao xuống thấp\n",
        "df_sorted_toan = dataset.sort_values(by='Toán', ascending=False)\n",
        "\n",
        "so_sinh_vien = 300\n",
        "df_top300_toan = df_sorted_toan.head(so_sinh_vien)\n",
        "\n",
        "print(\"300 sinh viên, dựa theo Điểm môn Toán từ cao xuống thấp :\\n\", df_top300_toan)"
      ],
      "metadata": {
        "colab": {
          "base_uri": "https://localhost:8080/"
        },
        "id": "LxZ52uq4GrXm",
        "outputId": "a7b1dee8-2e96-4dfc-8304-c973651a0947"
      },
      "execution_count": null,
      "outputs": [
        {
          "output_type": "stream",
          "name": "stdout",
          "text": [
            "300 sinh viên, dựa theo Điểm môn Toán từ cao xuống thấp :\n",
            "                             Tên  Mã số               Trường cấp 2  \\\n",
            "8                  LÊ MINH NGỌC  60334        THCS Trần Đại Nghĩa   \n",
            "23                PHẠM THANH HÀ  60129  THCS Nguyễn Thị Minh Khai   \n",
            "20                  LƯU MINH ÂN  60037        THCS Trần Đại Nghĩa   \n",
            "5            PHẠM LỢI NGỌC HIỀN  60158         THCS Châu Văn Liêm   \n",
            "11               NGUYỄN AN HOÀI  60169    THCS-THPT Nguyễn Khuyến   \n",
            "..                          ...    ...                        ...   \n",
            "346    NGUYỄN HUYỀN PHƯƠNG THẢO  60504          THCS Bình Thắng B   \n",
            "166         BÙI MINH KHÁNH ĐOAN  60107            THCS Chu Văn An   \n",
            "189  NGUYỄN TRƯỜNG THỤY ANH THƯ  60541        THCS Trịnh Hoài Đức   \n",
            "162            PHẠM PHƯƠNG ĐÔNG  60109       THCS Nguyễn Văn Tiết   \n",
            "342              MAI THANH BÌNH  60055        THCS Trịnh Hoài Đức   \n",
            "\n",
            "     Nguyện vọng 1  Nguyện vọng 2  Điểm cộng   Văn   Anh  Toán   Tổng  \\\n",
            "8                6            7.0        NaN  8.75   9.3  9.75  27.80   \n",
            "23               6            2.0        NaN  7.50   9.5  9.50  26.50   \n",
            "20               6            7.0        NaN  7.75   9.4  9.50  26.65   \n",
            "5                6            7.0        NaN  8.50   9.9  9.50  27.90   \n",
            "11               6            2.0        NaN  8.00  10.0  9.50  27.50   \n",
            "..             ...            ...        ...   ...   ...   ...    ...   \n",
            "346              6           30.0        NaN  6.25   8.0  7.25  21.50   \n",
            "166              6            2.0        NaN  7.50   8.9  7.25  23.65   \n",
            "189              6            8.0        NaN  8.50   7.6  7.25  23.35   \n",
            "162              6            7.0        1.0  6.75   8.7  7.25  23.70   \n",
            "342              6            7.0        NaN  7.00   7.3  7.25  21.55   \n",
            "\n",
            "     Xếp hạng  Điểm Trung Bình       ĐTB  Điểm Trung Bình Toán Anh  \n",
            "8           9         9.266667  9.266667                     9.525  \n",
            "23         24         8.833333  8.833333                     9.500  \n",
            "20         21         8.883333  8.883333                     9.450  \n",
            "5           6         9.300000  9.300000                     9.700  \n",
            "11         12         9.166667  9.166667                     9.750  \n",
            "..        ...              ...       ...                       ...  \n",
            "346       347         7.166667  7.166667                     7.625  \n",
            "166       167         7.883333  7.883333                     8.075  \n",
            "189       190         7.783333  7.783333                     7.425  \n",
            "162       163         7.566667  7.566667                     7.975  \n",
            "342       343         7.183333  7.183333                     7.275  \n",
            "\n",
            "[300 rows x 14 columns]\n"
          ]
        }
      ]
    },
    {
      "cell_type": "code",
      "source": [
        "## b) Điểm tổng 3 môn và điểm cộng từ cao xuống thấp\n",
        "dataset['Tổng Điểm'] = dataset[['Văn', 'Anh', 'Toán']].sum(axis=1) + dataset['Điểm cộng']\n",
        "df_sorted_tong_diem = dataset.sort_values(by=['Tổng Điểm', 'Điểm cộng'], ascending=[False, False])\n",
        "\n",
        "so_sinh_vien = 300\n",
        "df_top300_tong_diem = df_sorted_tong_diem.head(so_sinh_vien)\n",
        "\n",
        "print(\"300 sinh viên, dựa theo Điểm tổng 3 môn và điểm cộng từ cao xuống thấp:\\n\", df_top300_tong_diem)"
      ],
      "metadata": {
        "colab": {
          "base_uri": "https://localhost:8080/"
        },
        "id": "t4Z1XkHYHHYd",
        "outputId": "6ed950c2-03db-4ffb-d58e-b01206099921"
      },
      "execution_count": null,
      "outputs": [
        {
          "output_type": "stream",
          "name": "stdout",
          "text": [
            "300 sinh viên, dựa theo Điểm tổng 3 môn và điểm cộng từ cao xuống thấp:\n",
            "                         Tên  Mã số               Trường cấp 2  Nguyện vọng 1  \\\n",
            "0              QUÁCH KIM HÀ  60132             THCS Phú Cường              6   \n",
            "1          PHẠM TRÚC PHƯƠNG  60421        THCS Trần Đại Nghĩa              6   \n",
            "2            TRẦN KHẢ DOANH  60075    THCS-THPT Nguyễn Khuyến              6   \n",
            "4             TRẦN MINH THY  60558  THCS Nguyễn Thị Minh Khai              6   \n",
            "6    NGUYỄN NGỌC KHÁNH LINH  60249            THCS Thuận Giao              6   \n",
            "..                      ...    ...                        ...            ...   \n",
            "265         TRẦN THỊ CẨM VY  60610              THCS Phú Long              6   \n",
            "267           ĐOÀN HẢI LINH  60253            THCS Thuận Giao              6   \n",
            "268       NGUYỄN THÙY TRANG  60565      THCS Nguyễn Trường Tộ              6   \n",
            "269    LÊ NGUYỄN BẢO KHUYÊN  60238     THCS Nguyễn Trung Trực              6   \n",
            "271         PHAN LÊ ANH THƯ  60540         THCS Châu Văn Liêm              6   \n",
            "\n",
            "     Nguyện vọng 2  Điểm cộng   Văn  Anh  Toán   Tổng  Xếp hạng  \\\n",
            "0              2.0        3.0  9.00  8.9  8.75  29.65         1   \n",
            "1              7.0        2.0  8.75  9.6  9.25  29.60         2   \n",
            "2              7.0        2.0  8.25  9.6  9.25  29.10         3   \n",
            "4              2.0        2.0  8.25  9.7  8.00  27.95         5   \n",
            "6              8.0        2.0  8.00  8.9  9.00  27.90         7   \n",
            "..             ...        ...   ...  ...   ...    ...       ...   \n",
            "265            7.0        NaN  6.25  8.9  7.25  22.40       266   \n",
            "267            8.0        NaN  8.25  7.9  6.25  22.40       268   \n",
            "268            7.0        NaN  8.00  8.4  6.00  22.40       269   \n",
            "269            8.0        NaN  7.50  7.1  7.75  22.35       270   \n",
            "271            7.0        NaN  7.75  8.1  6.50  22.35       272   \n",
            "\n",
            "     Điểm Trung Bình       ĐTB  Điểm Trung Bình Toán Anh  Tổng Điểm  \n",
            "0           8.883333  8.883333                     8.825      29.65  \n",
            "1           9.200000  9.200000                     9.425      29.60  \n",
            "2           9.033333  9.033333                     9.425      29.10  \n",
            "4           8.650000  8.650000                     8.850      27.95  \n",
            "6           8.633333  8.633333                     8.950      27.90  \n",
            "..               ...       ...                       ...        ...  \n",
            "265         7.466667  7.466667                     8.075        NaN  \n",
            "267         7.466667  7.466667                     7.075        NaN  \n",
            "268         7.466667  7.466667                     7.200        NaN  \n",
            "269         7.450000  7.450000                     7.425        NaN  \n",
            "271         7.450000  7.450000                     7.300        NaN  \n",
            "\n",
            "[300 rows x 15 columns]\n"
          ]
        }
      ]
    },
    {
      "cell_type": "code",
      "source": [
        "## c) Điểm trung bình 3 môn từ cao xuống thấp\n",
        "dataset['ĐTB 3 Môn'] = dataset[['Văn', 'Anh', 'Toán']].mean(axis=1)\n",
        "df_sorted_tb_3_mon = dataset.sort_values(by='ĐTB 3 Môn', ascending=False)\n",
        "\n",
        "so_sinh_vien = 300\n",
        "df_top300_tb_3_mon = df_sorted_tb_3_mon.head(so_sinh_vien)\n",
        "\n",
        "print(\"D300 sinh viên, dựa theo Điểm trung bình 3 môn từ cao xuống thấp:\\n\", df_top300_tb_3_mon)"
      ],
      "metadata": {
        "colab": {
          "base_uri": "https://localhost:8080/"
        },
        "id": "YfNQu5mOHnaS",
        "outputId": "61096f7d-4ed5-4a64-c955-59b58c3577a2"
      },
      "execution_count": null,
      "outputs": [
        {
          "output_type": "stream",
          "name": "stdout",
          "text": [
            "D300 sinh viên, dựa theo Điểm trung bình 3 môn từ cao xuống thấp:\n",
            "                       Tên  Mã số               Trường cấp 2  Nguyện vọng 1  \\\n",
            "3       NGUYỄN MAI PHƯƠNG  60417        THCS Trần Đại Nghĩa              6   \n",
            "5      PHẠM LỢI NGỌC HIỀN  60158         THCS Châu Văn Liêm              6   \n",
            "7          ĐẶNG MINH CHÂU  60067  THCS Nguyễn Thị Minh Khai              6   \n",
            "8            LÊ MINH NGỌC  60334        THCS Trần Đại Nghĩa              6   \n",
            "1        PHẠM TRÚC PHƯƠNG  60421        THCS Trần Đại Nghĩa              6   \n",
            "..                    ...    ...                        ...            ...   \n",
            "316     VŨ TRỊNH LINH NHI  60352              THCS Phú Long              6   \n",
            "152      NGUYỄN THÁI LONG  60268              THCS Phú Long              6   \n",
            "151  NGUYỄN THỊ THÙY TRÂM  60575        THCS Trịnh Hoài Đức              6   \n",
            "317  NGUYỄN TRẦN HOÀNG VI  60603        THCS Trần Đại Nghĩa              6   \n",
            "318    TRẦN TÔ THANH LIÊM  60245        THCS Trịnh Hoài Đức              6   \n",
            "\n",
            "     Nguyện vọng 2  Điểm cộng   Văn   Anh  Toán   Tổng  Xếp hạng  \\\n",
            "3              7.0        NaN  8.75  10.0  9.25  28.00         4   \n",
            "5              7.0        NaN  8.50   9.9  9.50  27.90         6   \n",
            "7              2.0        NaN  9.00   9.9  9.00  27.90         8   \n",
            "8              7.0        NaN  8.75   9.3  9.75  27.80         9   \n",
            "1              7.0        2.0  8.75   9.6  9.25  29.60         2   \n",
            "..             ...        ...   ...   ...   ...    ...       ...   \n",
            "316            7.0        NaN  7.00   6.6  8.25  21.85       317   \n",
            "152            7.0        2.0  7.50   8.1  6.25  23.85       153   \n",
            "151            8.0        2.0  5.75   8.6  7.50  23.85       152   \n",
            "317            7.0        NaN  7.25   8.3  6.25  21.80       318   \n",
            "318            8.0        NaN  6.25   8.8  6.75  21.80       319   \n",
            "\n",
            "     Điểm Trung Bình       ĐTB  Điểm Trung Bình Toán Anh  Tổng Điểm  \\\n",
            "3           9.333333  9.333333                     9.625        NaN   \n",
            "5           9.300000  9.300000                     9.700        NaN   \n",
            "7           9.300000  9.300000                     9.450        NaN   \n",
            "8           9.266667  9.266667                     9.525        NaN   \n",
            "1           9.200000  9.200000                     9.425      29.60   \n",
            "..               ...       ...                       ...        ...   \n",
            "316         7.283333  7.283333                     7.425        NaN   \n",
            "152         7.283333  7.283333                     7.175      23.85   \n",
            "151         7.283333  7.283333                     8.050      23.85   \n",
            "317         7.266667  7.266667                     7.275        NaN   \n",
            "318         7.266667  7.266667                     7.775        NaN   \n",
            "\n",
            "     Điểm Trung Bình 3 Môn  ĐTB 3 Môn  \n",
            "3                 9.333333   9.333333  \n",
            "5                 9.300000   9.300000  \n",
            "7                 9.300000   9.300000  \n",
            "8                 9.266667   9.266667  \n",
            "1                 9.200000   9.200000  \n",
            "..                     ...        ...  \n",
            "316               7.283333   7.283333  \n",
            "152               7.283333   7.283333  \n",
            "151               7.283333   7.283333  \n",
            "317               7.266667   7.266667  \n",
            "318               7.266667   7.266667  \n",
            "\n",
            "[300 rows x 17 columns]\n"
          ]
        }
      ]
    },
    {
      "cell_type": "code",
      "source": [
        "## Đưa ra danh sách những bạn sinh viên được chọn vào trường đó.\n",
        "df_sorted_tong_diem = dataset.sort_values(by=['Tổng Điểm', 'Điểm cộng'], ascending=[False, False])\n",
        "so_sinh_vien_can_lay = 300\n",
        "df_duoc_chon = df_sorted_tong_diem.head(so_sinh_vien_can_lay)\n",
        "\n",
        "print(\"danh sách những bạn sinh viên được chọn vào trường:\\n\", df_duoc_chon)"
      ],
      "metadata": {
        "colab": {
          "base_uri": "https://localhost:8080/"
        },
        "id": "uxCjSsOFJd2a",
        "outputId": "2df7c968-f4dc-42e1-c7bf-3143e6def30d"
      },
      "execution_count": null,
      "outputs": [
        {
          "output_type": "stream",
          "name": "stdout",
          "text": [
            "danh sách những bạn sinh viên được chọn vào trường:\n",
            "                         Tên  Mã số               Trường cấp 2  Nguyện vọng 1  \\\n",
            "0              QUÁCH KIM HÀ  60132             THCS Phú Cường              6   \n",
            "1          PHẠM TRÚC PHƯƠNG  60421        THCS Trần Đại Nghĩa              6   \n",
            "2            TRẦN KHẢ DOANH  60075    THCS-THPT Nguyễn Khuyến              6   \n",
            "4             TRẦN MINH THY  60558  THCS Nguyễn Thị Minh Khai              6   \n",
            "6    NGUYỄN NGỌC KHÁNH LINH  60249            THCS Thuận Giao              6   \n",
            "..                      ...    ...                        ...            ...   \n",
            "265         TRẦN THỊ CẨM VY  60610              THCS Phú Long              6   \n",
            "267           ĐOÀN HẢI LINH  60253            THCS Thuận Giao              6   \n",
            "268       NGUYỄN THÙY TRANG  60565      THCS Nguyễn Trường Tộ              6   \n",
            "269    LÊ NGUYỄN BẢO KHUYÊN  60238     THCS Nguyễn Trung Trực              6   \n",
            "271         PHAN LÊ ANH THƯ  60540         THCS Châu Văn Liêm              6   \n",
            "\n",
            "     Nguyện vọng 2  Điểm cộng   Văn  Anh  Toán   Tổng  Xếp hạng  \\\n",
            "0              2.0        3.0  9.00  8.9  8.75  29.65         1   \n",
            "1              7.0        2.0  8.75  9.6  9.25  29.60         2   \n",
            "2              7.0        2.0  8.25  9.6  9.25  29.10         3   \n",
            "4              2.0        2.0  8.25  9.7  8.00  27.95         5   \n",
            "6              8.0        2.0  8.00  8.9  9.00  27.90         7   \n",
            "..             ...        ...   ...  ...   ...    ...       ...   \n",
            "265            7.0        NaN  6.25  8.9  7.25  22.40       266   \n",
            "267            8.0        NaN  8.25  7.9  6.25  22.40       268   \n",
            "268            7.0        NaN  8.00  8.4  6.00  22.40       269   \n",
            "269            8.0        NaN  7.50  7.1  7.75  22.35       270   \n",
            "271            7.0        NaN  7.75  8.1  6.50  22.35       272   \n",
            "\n",
            "     Điểm Trung Bình       ĐTB  Điểm Trung Bình Toán Anh  Tổng Điểm  \\\n",
            "0           8.883333  8.883333                     8.825      29.65   \n",
            "1           9.200000  9.200000                     9.425      29.60   \n",
            "2           9.033333  9.033333                     9.425      29.10   \n",
            "4           8.650000  8.650000                     8.850      27.95   \n",
            "6           8.633333  8.633333                     8.950      27.90   \n",
            "..               ...       ...                       ...        ...   \n",
            "265         7.466667  7.466667                     8.075        NaN   \n",
            "267         7.466667  7.466667                     7.075        NaN   \n",
            "268         7.466667  7.466667                     7.200        NaN   \n",
            "269         7.450000  7.450000                     7.425        NaN   \n",
            "271         7.450000  7.450000                     7.300        NaN   \n",
            "\n",
            "     Điểm Trung Bình 3 Môn  ĐTB 3 Môn  \n",
            "0                 8.883333   8.883333  \n",
            "1                 9.200000   9.200000  \n",
            "2                 9.033333   9.033333  \n",
            "4                 8.650000   8.650000  \n",
            "6                 8.633333   8.633333  \n",
            "..                     ...        ...  \n",
            "265               7.466667   7.466667  \n",
            "267               7.466667   7.466667  \n",
            "268               7.466667   7.466667  \n",
            "269               7.450000   7.450000  \n",
            "271               7.450000   7.450000  \n",
            "\n",
            "[300 rows x 17 columns]\n"
          ]
        }
      ]
    },
    {
      "cell_type": "code",
      "source": [
        "## So sánh 2 bạn sinh viên mã số: 60575 và 60602 dựa trên tổng điểm 3 môn (không tính điểm cộng)\n",
        "ma_so1 = 60575\n",
        "ma_so2 = 60602\n",
        "diem_sv1 = dataset.loc[dataset['Mã số'] == ma_so1, ['Văn', 'Anh', 'Toán']].sum(axis=1).values[0]\n",
        "diem_sv2 = dataset.loc[dataset['Mã số'] == ma_so2, ['Văn', 'Anh', 'Toán']].sum(axis=1).values[0]\n",
        "\n",
        "if diem_sv1 > diem_sv2:\n",
        "    print(f\"sinh viên có mã số {ma_so1} có tổng điểm 3 môn cao hơn.\")\n",
        "elif diem_sv1 < diem_sv2:\n",
        "    print(f\"sinh viên có mã số {ma_so2} có tổng điểm 3 môn cao hơn.\")\n",
        "else:\n",
        "    print(f\"hai sinh viên có mã số {ma_so1} và {ma_so2} có tổng điểm 3 môn bằng nhau.\")"
      ],
      "metadata": {
        "colab": {
          "base_uri": "https://localhost:8080/"
        },
        "id": "NQKs9VVXKAw2",
        "outputId": "3df4eb4d-dedf-426a-ff9a-a570201f346d"
      },
      "execution_count": null,
      "outputs": [
        {
          "output_type": "stream",
          "name": "stdout",
          "text": [
            "sinh viên có mã số 60602 có tổng điểm 3 môn cao hơn.\n"
          ]
        }
      ]
    }
  ]
}