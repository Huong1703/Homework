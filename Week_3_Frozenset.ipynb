{
  "nbformat": 4,
  "nbformat_minor": 0,
  "metadata": {
    "colab": {
      "provenance": [],
      "authorship_tag": "ABX9TyMy9lF93oWW5drZz6yN/s65",
      "include_colab_link": true
    },
    "kernelspec": {
      "name": "python3",
      "display_name": "Python 3"
    },
    "language_info": {
      "name": "python"
    }
  },
  "cells": [
    {
      "cell_type": "markdown",
      "metadata": {
        "id": "view-in-github",
        "colab_type": "text"
      },
      "source": [
        "<a href=\"https://colab.research.google.com/github/Huong1703/Homework/blob/main/Week_3_Frozenset.ipynb\" target=\"_parent\"><img src=\"https://colab.research.google.com/assets/colab-badge.svg\" alt=\"Open In Colab\"/></a>"
      ]
    },
    {
      "cell_type": "markdown",
      "source": [
        "1. Tạo một tập hợp gồm các phần tử từ 0 đến 99, in chúng ra màn hình"
      ],
      "metadata": {
        "id": "RoK8YbDaHN5-"
      }
    },
    {
      "cell_type": "code",
      "source": [
        "my_frozenset = frozenset(range(100))\n",
        "for element in my_frozenset:\n",
        "    print(element)"
      ],
      "metadata": {
        "colab": {
          "base_uri": "https://localhost:8080/"
        },
        "id": "ye1PzV_GIccA",
        "outputId": "4232a018-d95a-47bd-aca4-618d9bc788b6"
      },
      "execution_count": null,
      "outputs": [
        {
          "output_type": "stream",
          "name": "stdout",
          "text": [
            "0\n",
            "1\n",
            "2\n",
            "3\n",
            "4\n",
            "5\n",
            "6\n",
            "7\n",
            "8\n",
            "9\n",
            "10\n",
            "11\n",
            "12\n",
            "13\n",
            "14\n",
            "15\n",
            "16\n",
            "17\n",
            "18\n",
            "19\n",
            "20\n",
            "21\n",
            "22\n",
            "23\n",
            "24\n",
            "25\n",
            "26\n",
            "27\n",
            "28\n",
            "29\n",
            "30\n",
            "31\n",
            "32\n",
            "33\n",
            "34\n",
            "35\n",
            "36\n",
            "37\n",
            "38\n",
            "39\n",
            "40\n",
            "41\n",
            "42\n",
            "43\n",
            "44\n",
            "45\n",
            "46\n",
            "47\n",
            "48\n",
            "49\n",
            "50\n",
            "51\n",
            "52\n",
            "53\n",
            "54\n",
            "55\n",
            "56\n",
            "57\n",
            "58\n",
            "59\n",
            "60\n",
            "61\n",
            "62\n",
            "63\n",
            "64\n",
            "65\n",
            "66\n",
            "67\n",
            "68\n",
            "69\n",
            "70\n",
            "71\n",
            "72\n",
            "73\n",
            "74\n",
            "75\n",
            "76\n",
            "77\n",
            "78\n",
            "79\n",
            "80\n",
            "81\n",
            "82\n",
            "83\n",
            "84\n",
            "85\n",
            "86\n",
            "87\n",
            "88\n",
            "89\n",
            "90\n",
            "91\n",
            "92\n",
            "93\n",
            "94\n",
            "95\n",
            "96\n",
            "97\n",
            "98\n",
            "99\n"
          ]
        }
      ]
    },
    {
      "cell_type": "markdown",
      "source": [
        "2. Tạo một tập hợp gồm các số nguyên lẻ trog khoảng từ 1 đến 199, in chúng ra màn hình"
      ],
      "metadata": {
        "id": "-kspDIMuHafM"
      }
    },
    {
      "cell_type": "code",
      "source": [
        "odd_numbers = frozenset(range(1, 200, 2))\n",
        "for number in odd_numbers:\n",
        "    print(number)"
      ],
      "metadata": {
        "colab": {
          "base_uri": "https://localhost:8080/"
        },
        "id": "X6r2B5tdIgRQ",
        "outputId": "07c7a7dc-d5de-4193-b9b8-ce7fe38baff7"
      },
      "execution_count": null,
      "outputs": [
        {
          "output_type": "stream",
          "name": "stdout",
          "text": [
            "1\n",
            "3\n",
            "5\n",
            "7\n",
            "9\n",
            "11\n",
            "13\n",
            "15\n",
            "17\n",
            "19\n",
            "21\n",
            "23\n",
            "25\n",
            "27\n",
            "29\n",
            "31\n",
            "33\n",
            "35\n",
            "37\n",
            "39\n",
            "41\n",
            "43\n",
            "45\n",
            "47\n",
            "49\n",
            "51\n",
            "53\n",
            "55\n",
            "57\n",
            "59\n",
            "61\n",
            "63\n",
            "65\n",
            "67\n",
            "69\n",
            "71\n",
            "73\n",
            "75\n",
            "77\n",
            "79\n",
            "81\n",
            "83\n",
            "85\n",
            "87\n",
            "89\n",
            "91\n",
            "93\n",
            "95\n",
            "97\n",
            "99\n",
            "101\n",
            "103\n",
            "105\n",
            "107\n",
            "109\n",
            "111\n",
            "113\n",
            "115\n",
            "117\n",
            "119\n",
            "121\n",
            "123\n",
            "125\n",
            "127\n",
            "129\n",
            "131\n",
            "133\n",
            "135\n",
            "137\n",
            "139\n",
            "141\n",
            "143\n",
            "145\n",
            "147\n",
            "149\n",
            "151\n",
            "153\n",
            "155\n",
            "157\n",
            "159\n",
            "161\n",
            "163\n",
            "165\n",
            "167\n",
            "169\n",
            "171\n",
            "173\n",
            "175\n",
            "177\n",
            "179\n",
            "181\n",
            "183\n",
            "185\n",
            "187\n",
            "189\n",
            "191\n",
            "193\n",
            "195\n",
            "197\n",
            "199\n"
          ]
        }
      ]
    },
    {
      "cell_type": "markdown",
      "source": [
        "3. Tạo một tập hợp gồm các số nhập vào từ bàn phím (nhập trên 1 dòng, cách nhau bởi ký tự trồng), tìm và in ra số phần tử của tập, GTLN và NN trong tập"
      ],
      "metadata": {
        "id": "7Ec8Uy_2HgoM"
      }
    },
    {
      "cell_type": "code",
      "source": [
        "input_numbers = input(\"Nhập số: \")\n",
        "number_set = frozenset(map(int, input_numbers.split()))\n",
        "\n",
        "element_count = len(number_set)\n",
        "\n",
        "max_value = max(number_set)\n",
        "min_value = min(number_set)\n",
        "\n",
        "print(\"Số lượng phần tử trong tập:\", element_count)\n",
        "print(\"GTLN trong tập:\", max_value)\n",
        "print(\"GTNN trong tập:\", min_value)\n"
      ],
      "metadata": {
        "colab": {
          "base_uri": "https://localhost:8080/"
        },
        "id": "2lIMicOGIsa3",
        "outputId": "8e7c3eb2-fbf3-4da5-cc28-fe93e366b60e"
      },
      "execution_count": null,
      "outputs": [
        {
          "output_type": "stream",
          "name": "stdout",
          "text": [
            "Nhập số: 2 5 25 26 27 28\n",
            "Số lượng phần tử trong tập: 6\n",
            "GTLN trong tập: 28\n",
            "GTNN trong tập: 2\n"
          ]
        }
      ]
    },
    {
      "cell_type": "markdown",
      "source": [
        "4. Nhập vào từ bàn phím họ và tên đầy đủ của các sinh viên trong lớp, mỗi người trên một dòng. Việc nhập sẽ kết thúc khi người dùng gõ vào dòng trống. Sau đó hãy in ra các họ và tên của sinh viên trong lớp\n"
      ],
      "metadata": {
        "id": "nX48Euo9HuGT"
      }
    },
    {
      "cell_type": "code",
      "source": [
        "students_set = frozenset()\n",
        "\n",
        "while True:\n",
        "    student_name = input(\"Họ tên sinh viên: \")\n",
        "    if not student_name:\n",
        "        break\n",
        "\n",
        "    students_set = students_set.union({student_name})\n",
        "\n",
        "print(\"Các họ và tên của sinh viên trong lớp:\")\n",
        "for student in students_set:\n",
        "    print(student)\n"
      ],
      "metadata": {
        "colab": {
          "base_uri": "https://localhost:8080/"
        },
        "id": "Yx3r4iayJPvs",
        "outputId": "1672f4b6-775a-4c0b-9214-327603a05e0f"
      },
      "execution_count": null,
      "outputs": [
        {
          "output_type": "stream",
          "name": "stdout",
          "text": [
            "Họ tên sinh viên: Nguyễn Văn A\n",
            "Họ tên sinh viên: Trần Thị B\n",
            "Họ tên sinh viên: Lê Văn C\n",
            "Họ tên sinh viên: \n",
            "Các họ và tên của sinh viên trong lớp:\n",
            "Lê Văn C\n",
            "Nguyễn Văn A\n",
            "Trần Thị B\n"
          ]
        }
      ]
    },
    {
      "cell_type": "markdown",
      "source": [
        "5. Nhập số nguyên N, tạo một tập hợp các số nguyên dương d là ước số của N"
      ],
      "metadata": {
        "id": "sepL9BaVH9gy"
      }
    },
    {
      "cell_type": "code",
      "source": [
        "N = int(input(\"N = \"))\n",
        "\n",
        "divisors_set = frozenset(divisor for divisor in range(1, N + 1) if N % divisor == 0)\n",
        "\n",
        "print(f\"Các số nguyên dương là ước số của {N}:\")\n",
        "for divisor in divisors_set:\n",
        "    print(divisor)\n"
      ],
      "metadata": {
        "colab": {
          "base_uri": "https://localhost:8080/"
        },
        "id": "586_V7BqKSYh",
        "outputId": "8f1d803f-37c1-4e77-bd66-2b710d9dcc48"
      },
      "execution_count": null,
      "outputs": [
        {
          "output_type": "stream",
          "name": "stdout",
          "text": [
            "N = 84\n",
            "Các số nguyên dương là ước số của 84:\n",
            "1\n",
            "2\n",
            "3\n",
            "4\n",
            "6\n",
            "7\n",
            "42\n",
            "12\n",
            "14\n",
            "84\n",
            "21\n",
            "28\n"
          ]
        }
      ]
    },
    {
      "cell_type": "markdown",
      "source": [
        "6. Nhập 2 số nguyên a và b, hãy tạo ra một tập hợp các số d là ước số chung của cả a và b"
      ],
      "metadata": {
        "id": "V0sGkEJGIETR"
      }
    },
    {
      "cell_type": "code",
      "source": [
        "a = int(input(\"a = \"))\n",
        "b = int(input(\"b = \"))\n",
        "\n",
        "common_divisors_set = frozenset(divisor for divisor in range(1, min(a, b) + 1) if a % divisor == 0 and b % divisor == 0)\n",
        "\n",
        "print(\"Các số nguyên dương là ước số chung của {a} và {b}:\")\n",
        "for divisor in common_divisors_set:\n",
        "    print(divisor)\n"
      ],
      "metadata": {
        "colab": {
          "base_uri": "https://localhost:8080/"
        },
        "id": "HUJb1B2qKuxe",
        "outputId": "ebab5696-210e-40e3-b34c-629f0108647d"
      },
      "execution_count": null,
      "outputs": [
        {
          "output_type": "stream",
          "name": "stdout",
          "text": [
            "a = 45\n",
            "b = 60\n",
            "Các số nguyên dương là ước số chung của {a} và {b}:\n",
            "1\n",
            "3\n",
            "5\n",
            "15\n"
          ]
        }
      ]
    },
    {
      "cell_type": "markdown",
      "source": [
        "7. Nhập một dãy số nguyên từ bàn phím, các số được viết liên tiếp, ngăn cách nhau bởi dấu chấm phẩy (;), hãy đếm xem dãy nhập vào có nhiêu số khác nhau"
      ],
      "metadata": {
        "id": "w2Y8SR2AIJ_Z"
      }
    },
    {
      "cell_type": "code",
      "source": [
        "# Nhập dãy số nguyên từ người dùng\n",
        "input = input(\"Nhập dãy số: \")\n",
        "\n",
        "numbers_list = [int(num) for num in input.split(';')]\n",
        "unique_numbers_set = frozenset(numbers_list)\n",
        "\n",
        "count_unique_numbers = len(unique_numbers_set)\n",
        "\n",
        "print(\"Số lượng số nguyên khác nhau trong dãy là:\", count_unique_numbers)\n"
      ],
      "metadata": {
        "colab": {
          "base_uri": "https://localhost:8080/"
        },
        "id": "Ct1aKDW_LNzB",
        "outputId": "247eccfc-06f7-4b4c-c6fe-a4994546e950"
      },
      "execution_count": null,
      "outputs": [
        {
          "output_type": "stream",
          "name": "stdout",
          "text": [
            "Nhập dãy số: 74;87;24;1;6;8;44;59\n",
            "Số lượng số nguyên khác nhau trong dãy là: 8\n"
          ]
        }
      ]
    },
    {
      "cell_type": "markdown",
      "source": [
        "9. Một công ty có 3 phòng chức năng có dùng thế dùng chung nhân viên là phòng nhân sự, phòng hành chính và phòng truyền thông. Các nhân viên có mã nhân viên là các số nguyên dương. Hãy thực hiện các viện\n",
        "- Nhập danh sách mã nhân viên của cả 3 phòng, danh sách đượt viết liên tục trên một dòng, ngăn cách bởi dấy phẩy\n",
        "- Ba phòng ban này sử dụng bao nhiêu nhân viên?\n",
        "- In ra danh sách các mã nhân viên thuộc cả 3 phòng\n",
        "- In ra danh sách các mã nhân viên chỉ thuộc 1 phòng\n",
        "- Tìm cặp phòng dùng chung nhiều nhân viên nhất, nếu có nhiều cặp phòng như vậy thì in ra tất cả các cặp\n",
        "- Với từng phòng, in ra mã nhân viên đầu tiên của phòng (có mã nhỏ nhất)"
      ],
      "metadata": {
        "id": "Xx6TEcPaLf0M"
      }
    }
  ]
}