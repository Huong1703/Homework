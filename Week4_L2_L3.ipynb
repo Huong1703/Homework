{
  "nbformat": 4,
  "nbformat_minor": 0,
  "metadata": {
    "colab": {
      "provenance": [],
      "authorship_tag": "ABX9TyPzxlPU8NAWwr3hCwoyvpei",
      "include_colab_link": true
    },
    "kernelspec": {
      "name": "python3",
      "display_name": "Python 3"
    },
    "language_info": {
      "name": "python"
    }
  },
  "cells": [
    {
      "cell_type": "markdown",
      "metadata": {
        "id": "view-in-github",
        "colab_type": "text"
      },
      "source": [
        "<a href=\"https://colab.research.google.com/github/Huong1703/Homework/blob/main/Week4_L2_L3.ipynb\" target=\"_parent\"><img src=\"https://colab.research.google.com/assets/colab-badge.svg\" alt=\"Open In Colab\"/></a>"
      ]
    },
    {
      "cell_type": "markdown",
      "source": [
        "1. Viết chuong trình trả về các phần tử khác biệt của 2 mảng (Phần tử nằm trong a mà không nằm trong b).Các phần tử khác biệt này được sắp xếp theo thứ tự từ bé đến lớn"
      ],
      "metadata": {
        "id": "PehaREIurSZF"
      }
    },
    {
      "cell_type": "code",
      "source": [
        "def find_difference(arr1, arr2):\n",
        "    difference = list(set(arr1) - set(arr2))\n",
        "    difference.sort()\n",
        "    return difference\n",
        "\n",
        "array1 = [1, 2, 3, 4, 5]\n",
        "array2 = [3, 4, 5, 6, 7]\n",
        "\n",
        "result = find_difference(array1, array2)\n",
        "print(\"Các phần tử khác biệt: \", result)\n"
      ],
      "metadata": {
        "colab": {
          "base_uri": "https://localhost:8080/"
        },
        "id": "J_EbLKFXvxst",
        "outputId": "06909536-0247-4b2f-a122-4d80199bcfc3"
      },
      "execution_count": null,
      "outputs": [
        {
          "output_type": "stream",
          "name": "stdout",
          "text": [
            "Các phần tử khác biệt:  [1, 2]\n"
          ]
        }
      ]
    },
    {
      "cell_type": "markdown",
      "source": [
        "2. Viết chuơng trình NumPy để tìm chỉ số của các giá trị lớn nhất và nhỏ nhất dọc theo trục đã cho của một mảng"
      ],
      "metadata": {
        "id": "BSVu-VGbrgf2"
      }
    },
    {
      "cell_type": "code",
      "source": [
        "import numpy as np\n",
        "\n",
        "arr = np.array([[1, 2, 3],\n",
        "                [4, 5, 6],\n",
        "                [7, 8, 9]])\n",
        "\n",
        "max_index_col = np.argmax(arr, axis=0)\n",
        "min_index_col = np.argmin(arr, axis=0)\n",
        "\n",
        "max_index_row = np.argmax(arr, axis=1)\n",
        "min_index_row = np.argmin(arr, axis=1)\n",
        "\n",
        "print(\"Chỉ số của GTLN cột:\", max_index_col)\n",
        "print(\"Chỉ số của GTNN cột:\", min_index_col)\n",
        "print(\"Chỉ số của GTLN hàng:\", max_index_row)\n",
        "print(\"Chỉ số của GTNN hàng:\", min_index_row)\n"
      ],
      "metadata": {
        "colab": {
          "base_uri": "https://localhost:8080/"
        },
        "id": "nfen5-pIwESQ",
        "outputId": "e1909097-090f-43a6-e50e-0653ce92686d"
      },
      "execution_count": null,
      "outputs": [
        {
          "output_type": "stream",
          "name": "stdout",
          "text": [
            "Chỉ số của GTLN cột: [2 2 2]\n",
            "Chỉ số của GTNN cột: [0 0 0]\n",
            "Chỉ số của GTLN hàng: [2 2 2]\n",
            "Chỉ số của GTNN hàng: [0 0 0]\n"
          ]
        }
      ]
    }
  ]
}