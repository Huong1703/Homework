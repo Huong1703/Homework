{
  "nbformat": 4,
  "nbformat_minor": 0,
  "metadata": {
    "colab": {
      "provenance": [],
      "authorship_tag": "ABX9TyO8osf62pLmXJ0WNr0tJtly",
      "include_colab_link": true
    },
    "kernelspec": {
      "name": "python3",
      "display_name": "Python 3"
    },
    "language_info": {
      "name": "python"
    }
  },
  "cells": [
    {
      "cell_type": "markdown",
      "metadata": {
        "id": "view-in-github",
        "colab_type": "text"
      },
      "source": [
        "<a href=\"https://colab.research.google.com/github/Huong1703/Homework/blob/main/Week2_Chu%E1%BB%97i.ipynb\" target=\"_parent\"><img src=\"https://colab.research.google.com/assets/colab-badge.svg\" alt=\"Open In Colab\"/></a>"
      ]
    },
    {
      "cell_type": "markdown",
      "source": [
        "1. Nhập một chuỗi từ bán phím, kiểm tra xem nó có tận cùng bởi 3 dấu chấm than hay không (!!!), nếu không thì hãy thêm dấu chấm than vòa cuối để chuỗi có tận cùng là 3 dấu chấm than"
      ],
      "metadata": {
        "id": "5TnFItENjXiS"
      }
    },
    {
      "cell_type": "code",
      "source": [
        "chuoi = input(\"Nhập một chuỗi: \")\n",
        "if not chuoi.endswith(\"!!!\"):\n",
        "    chuoi += \"!!!\"\n",
        "print(\"Chuỗi sau khi kiểm tra:\", chuoi)"
      ],
      "metadata": {
        "colab": {
          "base_uri": "https://localhost:8080/"
        },
        "id": "9U3xnClTolzU",
        "outputId": "f55b0877-762d-410a-98d9-3c58c9071b18"
      },
      "execution_count": null,
      "outputs": [
        {
          "output_type": "stream",
          "name": "stdout",
          "text": [
            "Nhập một chuỗi: Hãy cùng tham gia thử thách 5 giây tách nhựa và lan tỏa thông điệp ý nghĩa này đến mọi người. Để “Trái Đất này là của chúng mình” sẽ thêm xanh, thêm lành bạn nhé!\n",
            "Chuỗi sau khi kiểm tra: Hãy cùng tham gia thử thách 5 giây tách nhựa và lan tỏa thông điệp ý nghĩa này đến mọi người. Để “Trái Đất này là của chúng mình” sẽ thêm xanh, thêm lành bạn nhé!!!!\n"
          ]
        }
      ]
    },
    {
      "cell_type": "markdown",
      "source": [
        "2. Nhập dãy từ bàn phím (các số được gõ trên cùng một dòng, cách nhau bởi dấu cách hoặc tab), in ra dãy số vừa nhập"
      ],
      "metadata": {
        "id": "pM9sjYvUj8Cv"
      }
    },
    {
      "cell_type": "code",
      "source": [
        "chuoi_so = input(\"Nhập dãy số (các số cách nhau bởi dấu cách hoặc tab): \")\n",
        "chuoi_so_list = chuoi_so.split()\n",
        "\n",
        "so_list = [int(x) for x in chuoi_so_list]\n",
        "print(\"Dãy số vừa nhập là:\", so_list)\n"
      ],
      "metadata": {
        "colab": {
          "base_uri": "https://localhost:8080/"
        },
        "id": "kXybZUiDpOBY",
        "outputId": "87e03dcf-af24-4c7b-e52e-b3c4e2121154"
      },
      "execution_count": null,
      "outputs": [
        {
          "output_type": "stream",
          "name": "stdout",
          "text": [
            "Nhập dãy số (các số cách nhau bởi dấu cách hoặc tab): 1 2 3 4 5 6 7 8 9 \n",
            "Dãy số vừa nhập là: [1, 2, 3, 4, 5, 6, 7, 8, 9]\n"
          ]
        }
      ]
    },
    {
      "cell_type": "markdown",
      "source": [
        "3. Nhập một tên người từ bàn phím, hãy tách phần họ và tên riêng của người đá và in chúng ra màn hình"
      ],
      "metadata": {
        "id": "1ErYZhsokNHV"
      }
    },
    {
      "cell_type": "code",
      "source": [
        "ten_nguoi = input(\"Nhập tên người: \")\n",
        "phan_ho, ten_rieng = ten_nguoi.split(maxsplit=1)\n",
        "\n",
        "print(\"Phần họ:\", phan_ho)\n",
        "print(\"Tên riêng:\", ten_rieng)\n"
      ],
      "metadata": {
        "colab": {
          "base_uri": "https://localhost:8080/"
        },
        "id": "ni-GOBpKpNlo",
        "outputId": "5804fad6-6871-4081-9bed-b87c47e5cb2e"
      },
      "execution_count": null,
      "outputs": [
        {
          "output_type": "stream",
          "name": "stdout",
          "text": [
            "Nhập tên người: Nguyễn Văn A\n",
            "Phần họ: Nguyễn\n",
            "Tên riêng: Văn A\n"
          ]
        }
      ]
    },
    {
      "cell_type": "markdown",
      "source": [
        "4. Nhập một chuỗi từ bàn phím, hãy loại bỏ tất cả các chữ số khỏi chuỗi và in lại nội dung chuỗi mới ra màn hình"
      ],
      "metadata": {
        "id": "RSdFFQUBkS8d"
      }
    },
    {
      "cell_type": "code",
      "source": [
        "chuoi = input(\"Nhập một chuỗi: \")\n",
        "chuoi_moi = ''.join(ky_tu for ky_tu in chuoi if not ky_tu.isdigit())\n",
        "print(\"Chuỗi sau khi loại bỏ chữ số:\", chuoi_moi)\n"
      ],
      "metadata": {
        "colab": {
          "base_uri": "https://localhost:8080/"
        },
        "id": "cT141X4BqZvz",
        "outputId": "5320d651-e98c-447c-f5fe-5b3780d78fc5"
      },
      "execution_count": null,
      "outputs": [
        {
          "output_type": "stream",
          "name": "stdout",
          "text": [
            "Nhập một chuỗi: Nỗ lực phân loại rác tại nguồn này nằm trong hành trình giúp nhựa được tái sinh của Unilever. Cùng với chúng tôi, bạn có thể tạo nên thay đổi lớn chỉ với 1 bước tách nhựa!\n",
            "Chuỗi sau khi loại bỏ chữ số: Nỗ lực phân loại rác tại nguồn này nằm trong hành trình giúp nhựa được tái sinh của Unilever. Cùng với chúng tôi, bạn có thể tạo nên thay đổi lớn chỉ với  bước tách nhựa!\n"
          ]
        }
      ]
    },
    {
      "cell_type": "markdown",
      "source": [
        "5. Nhập mội dãy các từ từ bàn phím, hãy in ra từ dài nhất trong dãy vừa nhấp, in ra mọi từ có cùng độ dài nhất"
      ],
      "metadata": {
        "id": "qBOakLjgk09q"
      }
    },
    {
      "cell_type": "code",
      "source": [
        "day_tu = input(\"Nhập dãy từ (các từ cách nhau bởi dấu cách): \")\n",
        "danh_sach_tu = day_tu.split()\n",
        "\n",
        "do_dai_lon_nhat = max(len(tu) for tu in danh_sach_tu)\n",
        "tu_lon_nhat = [tu for tu in danh_sach_tu if len(tu) == do_dai_lon_nhat]\n",
        "\n",
        "print(\"Từ dài nhất trong dãy là:\", tu_lon_nhat[0])\n",
        "print(\"Mọi từ có cùng độ dài nhất là:\", ', '.join(tu_lon_nhat))\n"
      ],
      "metadata": {
        "colab": {
          "base_uri": "https://localhost:8080/"
        },
        "id": "k3vaakoDqp6R",
        "outputId": "86a67e78-7483-40e5-f027-ab9483182e9a"
      },
      "execution_count": null,
      "outputs": [
        {
          "output_type": "stream",
          "name": "stdout",
          "text": [
            "Nhập dãy từ (các từ cách nhau bởi dấu cách): Bạn ơi có biết, một hành động phân loại rác thải nhựa tại nguồn tuy nhỏ và đơn giản, nhưng lại có ý nghĩa rất lớn với hành tinh của chúng ta? \n",
            "Từ dài nhất trong dãy là: biết,\n",
            "Mọi từ có cùng độ dài nhất là: biết,, nguồn, giản,, nhưng, nghĩa, chúng\n"
          ]
        }
      ]
    },
    {
      "cell_type": "markdown",
      "source": [
        "6. Nhập một dãy các từ từ bàn phím, thống kê xem có những chữ cái nào xuất hiện trong dãy và mỗi chữ xuất hiện bao nhiêu lần"
      ],
      "metadata": {
        "id": "UBYsEGjRlMpg"
      }
    },
    {
      "cell_type": "code",
      "source": [
        "day_tu = input(\"Nhập dãy từ (các từ cách nhau bởi dấu cách): \")\n",
        "thong_ke_chu_cai = {}\n",
        "\n",
        "for tu in day_tu:\n",
        "    for chu_cai in tu:\n",
        "        if chu_cai.isalpha():\n",
        "            if chu_cai in thong_ke_chu_cai:\n",
        "                thong_ke_chu_cai[chu_cai] += 1\n",
        "            else:\n",
        "                thong_ke_chu_cai[chu_cai] = 1\n",
        "\n",
        "print(\"Thống kê số lần xuất hiện của mỗi chữ cái:\")\n",
        "for chu_cai, so_lan_xuat_hien in thong_ke_chu_cai.items():\n",
        "    print(f\"{chu_cai}: {so_lan_xuat_hien} lần\")\n"
      ],
      "metadata": {
        "colab": {
          "base_uri": "https://localhost:8080/"
        },
        "id": "IbNvg4scq_tA",
        "outputId": "8e4887ba-c915-4ae0-b460-8441aefb0cb4"
      },
      "execution_count": null,
      "outputs": [
        {
          "output_type": "stream",
          "name": "stdout",
          "text": [
            "Nhập dãy từ (các từ cách nhau bởi dấu cách): Bạn ơi có biết, một hành động phân loại rác thải nhựa tại nguồn tuy nhỏ và đơn giản, nhưng lại có ý nghĩa rất lớn với hành tinh của chúng ta? \n",
            "Thống kê số lần xuất hiện của mỗi chữ cái:\n",
            "B: 1 lần\n",
            "ạ: 4 lần\n",
            "n: 17 lần\n",
            "ơ: 2 lần\n",
            "i: 9 lần\n",
            "c: 5 lần\n",
            "ó: 2 lần\n",
            "b: 1 lần\n",
            "ế: 1 lần\n",
            "t: 8 lần\n",
            "m: 1 lần\n",
            "ộ: 2 lần\n",
            "h: 12 lần\n",
            "à: 3 lần\n",
            "đ: 2 lần\n",
            "g: 6 lần\n",
            "p: 1 lần\n",
            "â: 1 lần\n",
            "l: 3 lần\n",
            "o: 1 lần\n",
            "r: 2 lần\n",
            "á: 1 lần\n",
            "ả: 2 lần\n",
            "ự: 1 lần\n",
            "a: 4 lần\n",
            "u: 2 lần\n",
            "ồ: 1 lần\n",
            "y: 1 lần\n",
            "ỏ: 1 lần\n",
            "v: 2 lần\n",
            "ư: 1 lần\n",
            "ý: 1 lần\n",
            "ĩ: 1 lần\n",
            "ấ: 1 lần\n",
            "ớ: 2 lần\n",
            "ủ: 1 lần\n",
            "ú: 1 lần\n"
          ]
        }
      ]
    },
    {
      "cell_type": "markdown",
      "source": [
        "7. Nhập chuỗi S gồm toàn chữ số và số nguyên N, chỉ ra cách xóa đúng N kí tự khỏi S để được số có giá trị lớn nhất"
      ],
      "metadata": {
        "id": "PcqYdT2tlyuj"
      }
    },
    {
      "cell_type": "code",
      "source": [
        "chuoi_S = input(\"Nhập chuỗi S chứa toàn chữ số: \")\n",
        "N = int(input(\"Nhập số nguyên N: \"))\n",
        "\n",
        "if N >= len(chuoi_S):\n",
        "    print(\"Số kí tự cần xóa lớn hơn hoặc bằng độ dài của chuỗi.\")\n",
        "else:\n",
        "    chuoi_so_list = list(chuoi_S)\n",
        "    chuoi_so_list.sort(reverse=True)\n",
        "    chuoi_so_list = chuoi_so_list[:-N]\n",
        "\n",
        "    ket_qua = ''.join(chuoi_so_list)\n",
        "    print(\"Cách xóa {N} kí tự để được số lớn nhất:\", ket_qua)\n"
      ],
      "metadata": {
        "colab": {
          "base_uri": "https://localhost:8080/"
        },
        "id": "szEsHPR3rap7",
        "outputId": "880a1dc9-a3cc-4ce8-d59f-775c67ae83b3"
      },
      "execution_count": null,
      "outputs": [
        {
          "output_type": "stream",
          "name": "stdout",
          "text": [
            "Nhập chuỗi S chứa toàn chữ số: 17 3 98 96 97 5 2 25 24 28 34 5 2 \n",
            "Nhập số nguyên N: 10\n",
            "Cách xóa {N} kí tự để được số lớn nhất: 999887765554433222221   \n"
          ]
        }
      ]
    },
    {
      "cell_type": "markdown",
      "source": [
        "8. Nhập chuỗi S, hãy thay thế tất cả các chữ sô trong S bằng kí tự hỏi chấm (?), sau đó in lại S ra màn hình"
      ],
      "metadata": {
        "id": "8I6BcV9yl8Zb"
      }
    },
    {
      "cell_type": "code",
      "source": [
        "chuoi_S = input(\"Nhập chuỗi S: \")\n",
        "chuoi_S_moi = ''.join('?' if ky_tu.isdigit() else ky_tu for ky_tu in chuoi_S)\n",
        "print(\"Chuỗi S sau khi thay thế chữ số:\", chuoi_S_moi)\n"
      ],
      "metadata": {
        "colab": {
          "base_uri": "https://localhost:8080/"
        },
        "id": "2yeQkkIAshNO",
        "outputId": "c39ebf3d-76f8-43d0-8398-940781f4eb55"
      },
      "execution_count": null,
      "outputs": [
        {
          "output_type": "stream",
          "name": "stdout",
          "text": [
            "Nhập chuỗi S: 2024 : new label - CEO 1 2 3 4 \n",
            "Chuỗi S sau khi thay thế chữ số: ???? : new label - CEO ? ? ? ? \n"
          ]
        }
      ]
    },
    {
      "cell_type": "markdown",
      "source": [
        "9. Nhập chuỗi S, kiểm tra xem chuỗi S có là dạng đối xứng hay không"
      ],
      "metadata": {
        "id": "i9ZhviQdmGAi"
      }
    },
    {
      "cell_type": "code",
      "source": [
        "chuoi_S = input(\"Nhập chuỗi S: \")\n",
        "\n",
        "def la_chuoi_doi_xung(chuoi):\n",
        "    chuoi = chuoi.lower()\n",
        "    return chuoi == chuoi[::-1]\n",
        "\n",
        "if la_chuoi_doi_xung(chuoi_S):\n",
        "    print(\"đối xứng.\")\n",
        "else:\n",
        "    print(\"không đối xứng\")\n"
      ],
      "metadata": {
        "colab": {
          "base_uri": "https://localhost:8080/"
        },
        "id": "K9Cjb3Eps7A6",
        "outputId": "fa7b359a-2a99-4993-cb7d-8fbf83e8572d"
      },
      "execution_count": null,
      "outputs": [
        {
          "output_type": "stream",
          "name": "stdout",
          "text": [
            "Nhập chuỗi S: Lời nhắn của JISOO cho cuộc hành trình mới tại BLISSOO\n",
            "không đối xứng\n"
          ]
        }
      ]
    }
  ]
}